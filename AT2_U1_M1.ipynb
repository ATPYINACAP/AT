{
  "nbformat": 4,
  "nbformat_minor": 0,
  "metadata": {
    "colab": {
      "provenance": [],
      "mount_file_id": "1nENIiyvlOGaELCv46LF5ZmZmKw8Zqw7Q",
      "authorship_tag": "ABX9TyOJEM+mwq+3BSGAAjsgAV0O",
      "include_colab_link": true
    },
    "kernelspec": {
      "name": "python3",
      "display_name": "Python 3"
    },
    "language_info": {
      "name": "python"
    }
  },
  "cells": [
    {
      "cell_type": "markdown",
      "metadata": {
        "id": "view-in-github",
        "colab_type": "text"
      },
      "source": [
        "<a href=\"https://colab.research.google.com/github/ATPYINACAP/AT/blob/main/AT2_U1_M1.ipynb\" target=\"_parent\"><img src=\"https://colab.research.google.com/assets/colab-badge.svg\" alt=\"Open In Colab\"/></a>"
      ]
    },
    {
      "cell_type": "code",
      "execution_count": 131,
      "metadata": {
        "colab": {
          "base_uri": "https://localhost:8080/"
        },
        "id": "kEl1QW2RG0K8",
        "outputId": "6bb19c6f-2281-4491-9f9c-5a2bb2e6048a"
      },
      "outputs": [
        {
          "output_type": "stream",
          "name": "stdout",
          "text": [
            "Drive already mounted at /content/drive; to attempt to forcibly remount, call drive.mount(\"/content/drive\", force_remount=True).\n"
          ]
        }
      ],
      "source": [
        "from google.colab import drive\n",
        "drive.mount('/content/drive')"
      ]
    },
    {
      "cell_type": "code",
      "source": [
        "import pandas as pd\n",
        "\n",
        "# Ruta al archivo Excel\n",
        "file_path = '/content/drive/MyDrive/CBPR01/AT02/AT2 Instituciones de Educacion en Chile.xlsx'\n",
        "\n",
        "# Leer el archivo Excel\n",
        "df = pd.read_excel(file_path)"
      ],
      "metadata": {
        "id": "53R-s-bFHGyc"
      },
      "execution_count": 132,
      "outputs": []
    },
    {
      "cell_type": "markdown",
      "source": [
        "**ACTIVIDAD 01**\n",
        "\n",
        "Considerando los datos de la base \"Instituciones de Educacion en Chile\""
      ],
      "metadata": {
        "id": "y_JMSf05Hje2"
      }
    },
    {
      "cell_type": "code",
      "source": [
        "# a) Determinar el total de instituciones educacionales del país\n",
        "suma_columna = df['CANTIDAD DE PERSONAS'].sum()\n",
        "print(f'El total de instituciones educacionales del país: {suma_columna}')"
      ],
      "metadata": {
        "colab": {
          "base_uri": "https://localhost:8080/"
        },
        "id": "2Y7Mo7RrHSoI",
        "outputId": "bbddf87b-d6c4-444b-b9d6-43d7c64a0b2a"
      },
      "execution_count": 133,
      "outputs": [
        {
          "output_type": "stream",
          "name": "stdout",
          "text": [
            "El total de instituciones educacionales del país: 1878642\n"
          ]
        }
      ]
    },
    {
      "cell_type": "code",
      "source": [
        "# b) ¿Cuantas personas estudian en un instituto profesional?\n",
        "cantidad= df[\"CANTIDAD DE PERSONAS\"][4]\n",
        "print(f'La cantidad de personas estudian en un instituto profesional {cantidad}')"
      ],
      "metadata": {
        "colab": {
          "base_uri": "https://localhost:8080/"
        },
        "id": "Qjha2YmJIpCc",
        "outputId": "2a6d6a91-cff0-43ff-9ba6-88554bf8eeed"
      },
      "execution_count": 134,
      "outputs": [
        {
          "output_type": "stream",
          "name": "stdout",
          "text": [
            "La cantidad de personas estudian en un instituto profesional 160229\n"
          ]
        }
      ]
    },
    {
      "cell_type": "markdown",
      "source": [
        "**ACTIVIDAD 02**\n",
        "\n",
        "Considerando la variable aleatoria\n",
        "\n",
        "$X$ : \" *Estudiantes de un instituto profesional* \""
      ],
      "metadata": {
        "id": "ZewHbioYI6IV"
      }
    },
    {
      "cell_type": "code",
      "source": [
        "# a) Determine probabilidad de éxito\n",
        "\n",
        "# identifica casos favorables, asignadolo a casos_fav\n",
        "casos_fav=df[\"CANTIDAD DE PERSONAS\"][4]\n",
        "\n",
        "# identifica y calcula casos totales, asignadolo a total\n",
        "total=df[\"CANTIDAD DE PERSONAS\"].sum()\n",
        "\n",
        "# calcula prob. de éxito\n",
        "p=casos_fav/total\n",
        "\n",
        "# redondear con 5 dec. prob. de éxito\n",
        "p=round(p,5)\n",
        "\n",
        "# muestra resultado\n",
        "print(f'La probabilidad de éxito es: {p}')"
      ],
      "metadata": {
        "colab": {
          "base_uri": "https://localhost:8080/"
        },
        "id": "gDmykulDLnCM",
        "outputId": "373d4e2f-b4c9-4b23-968f-b82ec0e88b40"
      },
      "execution_count": 135,
      "outputs": [
        {
          "output_type": "stream",
          "name": "stdout",
          "text": [
            "La probabilidad de éxito es: 0.08529\n"
          ]
        }
      ]
    },
    {
      "cell_type": "code",
      "source": [
        "casos_fav,total"
      ],
      "metadata": {
        "colab": {
          "base_uri": "https://localhost:8080/"
        },
        "id": "FShUmJlbZpuf",
        "outputId": "27b95f38-95ac-4403-8f61-72f251e1fa4f"
      },
      "execution_count": 136,
      "outputs": [
        {
          "output_type": "execute_result",
          "data": {
            "text/plain": [
              "(160229, 1878642)"
            ]
          },
          "metadata": {},
          "execution_count": 136
        }
      ]
    },
    {
      "cell_type": "code",
      "source": [
        "# b) Determine probabilidad de fracaso\n",
        "\n",
        "# Calcula prob de fracaso q.\n",
        "q=1-p\n",
        "\n",
        "# redondear con 5 dec. prob. de fracaso\n",
        "q=round(q,5)\n",
        "\n",
        "# muestra resultado\n",
        "print(f'La probabilidad de fracaso es: {q}')"
      ],
      "metadata": {
        "colab": {
          "base_uri": "https://localhost:8080/"
        },
        "id": "XecL4rgoLvCF",
        "outputId": "af649b0b-25c5-4719-deef-68307093c19a"
      },
      "execution_count": 137,
      "outputs": [
        {
          "output_type": "stream",
          "name": "stdout",
          "text": [
            "La probabilidad de fracaso es: 0.91471\n"
          ]
        }
      ]
    },
    {
      "cell_type": "markdown",
      "source": [
        "**ACTIVIDAD 03**\n",
        "\n",
        "Considerando la variable aleatoria de la pregunta 02. Si se escogen tres personas al azar, complete la tabla de distribución de probabilidades\n",
        "\n",
        "![Captura de pantalla 2024-08-02 a la(s) 2.15.51 p. m..png](data:image/png;base64,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)"
      ],
      "metadata": {
        "id": "E8_BBK3bRBhz"
      }
    },
    {
      "cell_type": "code",
      "source": [
        "# Primero usaremos p, definida en la pregunta anterior.\n"
      ],
      "metadata": {
        "id": "bsvOMDEsTwwL"
      },
      "execution_count": 138,
      "outputs": []
    },
    {
      "cell_type": "code",
      "source": [
        "# Crear tablas con las posibles combinaciones de escoger 3 personas\n",
        "# que estudien en \"intituto profesional\" definida en pregunta 2\n",
        "data = {\n",
        "    'p1': ['no', 'no', 'no', 'no', 'si', 'si', 'si', 'si'],\n",
        "    'p2': ['no', 'no', 'si', 'si', 'no', 'no', 'si', 'si'],\n",
        "    'p3': ['no', 'si', 'no', 'si', 'no', 'si', 'no', 'si']\n",
        "}\n",
        "tabla = pd.DataFrame(data)\n",
        "\n",
        "# Agregar la columna 'X' que cuenta la cantidad de \"si\" por fila\n",
        "\n",
        "tabla['X'] = tabla.apply(lambda row: row.tolist().count('si'), axis=1)\n",
        "\n",
        "# Mostrar la tabla\n",
        "print(tabla)\n",
        "# El recorrido de la varible será x={0,  1, 2, 3}"
      ],
      "metadata": {
        "colab": {
          "base_uri": "https://localhost:8080/"
        },
        "id": "s2e9r84tUUB7",
        "outputId": "11494b8c-4596-4c82-c079-388433a893d5"
      },
      "execution_count": 139,
      "outputs": [
        {
          "output_type": "stream",
          "name": "stdout",
          "text": [
            "   p1  p2  p3  X\n",
            "0  no  no  no  0\n",
            "1  no  no  si  1\n",
            "2  no  si  no  1\n",
            "3  no  si  si  2\n",
            "4  si  no  no  1\n",
            "5  si  no  si  2\n",
            "6  si  si  no  2\n",
            "7  si  si  si  3\n"
          ]
        }
      ]
    },
    {
      "cell_type": "code",
      "source": [
        "tabla2 ={\n",
        "    'x': ['0', '1', '2',\"3\"],\n",
        "    'p(X=x)': [q*q*q, p*q*q*3, p*p*q*3, p*p*p]\n",
        "    }\n",
        "tabla2 = pd.DataFrame(tabla2)\n",
        "print(tabla2)"
      ],
      "metadata": {
        "colab": {
          "base_uri": "https://localhost:8080/"
        },
        "id": "lP6sXDueVY4Q",
        "outputId": "3d25db5f-7d2b-4b6d-fa21-c8919c51ab96"
      },
      "execution_count": 140,
      "outputs": [
        {
          "output_type": "stream",
          "name": "stdout",
          "text": [
            "   x    p(X=x)\n",
            "0  0  0.765333\n",
            "1  1  0.214085\n",
            "2  2  0.019962\n",
            "3  3  0.000620\n"
          ]
        }
      ]
    },
    {
      "cell_type": "code",
      "source": [
        "# Verificando si la suma de las prob es 1\n",
        "\n",
        "suma_p1 = tabla2['p(X=x)'].sum()\n",
        "suma_p1"
      ],
      "metadata": {
        "colab": {
          "base_uri": "https://localhost:8080/"
        },
        "id": "FY7k74n3X-gv",
        "outputId": "b2456e05-f58f-46e3-f41b-fb31743fde2b"
      },
      "execution_count": 141,
      "outputs": [
        {
          "output_type": "execute_result",
          "data": {
            "text/plain": [
              "1.0000000000000002"
            ]
          },
          "metadata": {},
          "execution_count": 141
        }
      ]
    },
    {
      "cell_type": "markdown",
      "source": [
        "**ACTIVIDAD 04**\n",
        "\n",
        "En base a la distribución de Probabilidades, realice:"
      ],
      "metadata": {
        "id": "V3uuGV6WYmZ8"
      }
    },
    {
      "cell_type": "code",
      "source": [
        "# a) Gráfico de Distribución de probabilidad\n",
        "\n",
        "# Crear el gráfico de barras\n",
        "import matplotlib.pyplot as plt\n",
        "\n",
        "plt.bar(tabla2['x'], tabla2['p(X=x)'], color='purple')\n",
        "\n",
        "# Añadir títulos y etiquetas\n",
        "plt.xlabel('x')\n",
        "plt.ylabel('Probabilidad')\n",
        "plt.title('P(X=x)')\n",
        "\n",
        "# Mostrar el gráfico\n",
        "plt.show()\n",
        "\n"
      ],
      "metadata": {
        "colab": {
          "base_uri": "https://localhost:8080/",
          "height": 472
        },
        "id": "iACJc9R4Yx9g",
        "outputId": "51ef2262-a8a8-4250-a908-c49282a760e8"
      },
      "execution_count": 142,
      "outputs": [
        {
          "output_type": "display_data",
          "data": {
            "text/plain": [
              "<Figure size 640x480 with 1 Axes>"
            ],
            "image/png": "[encoded data removed]"
          },
          "metadata": {}
        }
      ]
    },
    {
      "cell_type": "code",
      "source": [
        "# Gráfico de Distribución de Prob. Acumuladas\n",
        "\n",
        "tabla_AC = {\n",
        "    'x': ['0', '1', '2', '3'],\n",
        "    r'$p(X \\leq x)$': [q**3, p*q*q*3+q**3, p*p*q*3+p*q*q*3+q**3, p*p*p+p*p*q*3+p*q*q*3+q**3]\n",
        "}\n",
        "tabla_AC = pd.DataFrame(tabla_AC)\n",
        "print(tabla_AC)"
      ],
      "metadata": {
        "colab": {
          "base_uri": "https://localhost:8080/"
        },
        "id": "1-U3KQTccw1S",
        "outputId": "77a0193e-c71a-4926-8d27-894b35a92593"
      },
      "execution_count": 143,
      "outputs": [
        {
          "output_type": "stream",
          "name": "stdout",
          "text": [
            "   x  $p(X \\leq x)$\n",
            "0  0       0.765333\n",
            "1  1       0.979418\n",
            "2  2       0.999380\n",
            "3  3       1.000000\n"
          ]
        }
      ]
    },
    {
      "cell_type": "code",
      "source": [
        "plt.bar(tabla_AC['x'], tabla_AC[r'$p(X \\leq x)$'], color='purple')\n",
        "\n",
        "# Añadir títulos y etiquetas\n",
        "plt.xlabel('x')\n",
        "plt.ylabel('Probabilidad')\n",
        "plt.title('$P(X \\leq x)$')\n",
        "\n",
        "# Mostrar el gráfico\n",
        "plt.show()\n"
      ],
      "metadata": {
        "colab": {
          "base_uri": "https://localhost:8080/",
          "height": 474
        },
        "id": "o1YlwPvjd-rh",
        "outputId": "08db5689-0773-413a-d673-c3846408eaec"
      },
      "execution_count": 144,
      "outputs": [
        {
          "output_type": "display_data",
          "data": {
            "text/plain": [
              "<Figure size 640x480 with 1 Axes>"
            ],
            "image/png": "[encoded data removed]"
          },
          "metadata": {}
        }
      ]
    }
  ]
}