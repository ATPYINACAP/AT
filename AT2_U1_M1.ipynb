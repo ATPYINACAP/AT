{
  "nbformat": 4,
  "nbformat_minor": 0,
  "metadata": {
    "colab": {
      "provenance": [],
      "mount_file_id": "1nENIiyvlOGaELCv46LF5ZmZmKw8Zqw7Q",
      "authorship_tag": "ABX9TyNmDkxpGYb0YaWSTkKn8TOW",
      "include_colab_link": true
    },
    "kernelspec": {
      "name": "python3",
      "display_name": "Python 3"
    },
    "language_info": {
      "name": "python"
    }
  },
  "cells": [
    {
      "cell_type": "markdown",
      "metadata": {
        "id": "view-in-github",
        "colab_type": "text"
      },
      "source": [
        "<a href=\"https://colab.research.google.com/github/ATPYINACAP/AT/blob/main/AT2_U1_M1.ipynb\" target=\"_parent\"><img src=\"https://colab.research.google.com/assets/colab-badge.svg\" alt=\"Open In Colab\"/></a>"
      ]
    },
    {
      "cell_type": "code",
      "execution_count": 1,
      "metadata": {
        "colab": {
          "base_uri": "https://localhost:8080/"
        },
        "id": "kEl1QW2RG0K8",
        "outputId": "e1325d81-4baf-460d-ad21-5e902cba5fc2"
      },
      "outputs": [
        {
          "output_type": "stream",
          "name": "stdout",
          "text": [
            "Drive already mounted at /content/drive; to attempt to forcibly remount, call drive.mount(\"/content/drive\", force_remount=True).\n"
          ]
        }
      ],
      "source": [
        "from google.colab import drive\n",
        "drive.mount('/content/drive')"
      ]
    },
    {
      "cell_type": "code",
      "source": [
        "import pandas as pd\n",
        "\n",
        "# Ruta al archivo Excel\n",
        "file_path = '/content/drive/MyDrive/CBPR01/AT02/AT2 Instituciones de Educacion en Chile.xlsx'\n",
        "\n",
        "# Leer el archivo Excel\n",
        "df = pd.read_excel(file_path)"
      ],
      "metadata": {
        "id": "53R-s-bFHGyc"
      },
      "execution_count": 2,
      "outputs": []
    },
    {
      "cell_type": "markdown",
      "source": [
        "**ACTIVIDAD 01**\n",
        "\n",
        "Considerando los datos de la base \"Instituciones de Educacion en Chile\""
      ],
      "metadata": {
        "id": "y_JMSf05Hje2"
      }
    },
    {
      "cell_type": "code",
      "source": [
        "# a) Determinar el total de instituciones educacionales del país\n",
        "suma_columna = df['CANTIDAD DE PERSONAS'].sum()\n",
        "print(f'El total de instituciones educacionales del país: {suma_columna}')"
      ],
      "metadata": {
        "colab": {
          "base_uri": "https://localhost:8080/"
        },
        "id": "2Y7Mo7RrHSoI",
        "outputId": "68eec6c1-0ffe-4024-f8cc-b43ddffcd096"
      },
      "execution_count": 3,
      "outputs": [
        {
          "output_type": "stream",
          "name": "stdout",
          "text": [
            "El total de instituciones educacionales del país: 1878642\n"
          ]
        }
      ]
    },
    {
      "cell_type": "code",
      "source": [
        "# visualizar base de datos\n",
        "df"
      ],
      "metadata": {
        "colab": {
          "base_uri": "https://localhost:8080/",
          "height": 269
        },
        "id": "AdyFGq8FJJcA",
        "outputId": "8dcd1218-c934-4938-ad3b-6a6680c20544"
      },
      "execution_count": 4,
      "outputs": [
        {
          "output_type": "execute_result",
          "data": {
            "text/plain": [
              "                                   LUGAR DE ESTUDIO  CANTIDAD DE PERSONAS\n",
              "0                 MUNICIPAL / LOCAL / CORPORACIONES                426155\n",
              "1                          PARTICULAR SUBVENCIONADO                837310\n",
              "2  JARDÍN INFANTIL O SALA CUNA DEL LUGAR DE TRABAJO                 12187\n",
              "3                       CENTRO DE FORMACIÓN TÉCNICA                 18966\n",
              "4                             INSTITUTO PROFESIONAL                160229\n",
              "5                                       UNIVERSIDAD                423011\n",
              "6                                   FUERZAS ARMADAS                   784"
            ],
            "text/html": [
              "\n",
              "  <div id=\"df-0d641f93-b441-450e-bef0-e57087ca1bed\" class=\"colab-df-container\">\n",
              "    <div>\n",
              "<style scoped>\n",
              "    .dataframe tbody tr th:only-of-type {\n",
              "        vertical-align: middle;\n",
              "    }\n",
              "\n",
              "    .dataframe tbody tr th {\n",
              "        vertical-align: top;\n",
              "    }\n",
              "\n",
              "    .dataframe thead th {\n",
              "        text-align: right;\n",
              "    }\n",
              "</style>\n",
              "<table border=\"1\" class=\"dataframe\">\n",
              "  <thead>\n",
              "    <tr style=\"text-align: right;\">\n",
              "      <th></th>\n",
              "      <th>LUGAR DE ESTUDIO</th>\n",
              "      <th>CANTIDAD DE PERSONAS</th>\n",
              "    </tr>\n",
              "  </thead>\n",
              "  <tbody>\n",
              "    <tr>\n",
              "      <th>0</th>\n",
              "      <td>MUNICIPAL / LOCAL / CORPORACIONES</td>\n",
              "      <td>426155</td>\n",
              "    </tr>\n",
              "    <tr>\n",
              "      <th>1</th>\n",
              "      <td>PARTICULAR SUBVENCIONADO</td>\n",
              "      <td>837310</td>\n",
              "    </tr>\n",
              "    <tr>\n",
              "      <th>2</th>\n",
              "      <td>JARDÍN INFANTIL O SALA CUNA DEL LUGAR DE TRABAJO</td>\n",
              "      <td>12187</td>\n",
              "    </tr>\n",
              "    <tr>\n",
              "      <th>3</th>\n",
              "      <td>CENTRO DE FORMACIÓN TÉCNICA</td>\n",
              "      <td>18966</td>\n",
              "    </tr>\n",
              "    <tr>\n",
              "      <th>4</th>\n",
              "      <td>INSTITUTO PROFESIONAL</td>\n",
              "      <td>160229</td>\n",
              "    </tr>\n",
              "    <tr>\n",
              "      <th>5</th>\n",
              "      <td>UNIVERSIDAD</td>\n",
              "      <td>423011</td>\n",
              "    </tr>\n",
              "    <tr>\n",
              "      <th>6</th>\n",
              "      <td>FUERZAS ARMADAS</td>\n",
              "      <td>784</td>\n",
              "    </tr>\n",
              "  </tbody>\n",
              "</table>\n",
              "</div>\n",
              "    <div class=\"colab-df-buttons\">\n",
              "\n",
              "  <div class=\"colab-df-container\">\n",
              "    <button class=\"colab-df-convert\" onclick=\"convertToInteractive('df-0d641f93-b441-450e-bef0-e57087ca1bed')\"\n",
              "            title=\"Convert this dataframe to an interactive table.\"\n",
              "            style=\"display:none;\">\n",
              "\n",
              "  <svg xmlns=\"http://www.w3.org/2000/svg\" height=\"24px\" viewBox=\"0 -960 960 960\">\n",
              "    <path d=\"M120-120v-720h720v720H120Zm60-500h600v-160H180v160Zm220 220h160v-160H400v160Zm0 220h160v-160H400v160ZM180-400h160v-160H180v160Zm440 0h160v-160H620v160ZM180-180h160v-160H180v160Zm440 0h160v-160H620v160Z\"/>\n",
              "  </svg>\n",
              "    </button>\n",
              "\n",
              "  <style>\n",
              "    .colab-df-container {\n",
              "      display:flex;\n",
              "      gap: 12px;\n",
              "    }\n",
              "\n",
              "    .colab-df-convert {\n",
              "      background-color: #E8F0FE;\n",
              "      border: none;\n",
              "      border-radius: 50%;\n",
              "      cursor: pointer;\n",
              "      display: none;\n",
              "      fill: #1967D2;\n",
              "      height: 32px;\n",
              "      padding: 0 0 0 0;\n",
              "      width: 32px;\n",
              "    }\n",
              "\n",
              "    .colab-df-convert:hover {\n",
              "      background-color: #E2EBFA;\n",
              "      box-shadow: 0px 1px 2px rgba(60, 64, 67, 0.3), 0px 1px 3px 1px rgba(60, 64, 67, 0.15);\n",
              "      fill: #174EA6;\n",
              "    }\n",
              "\n",
              "    .colab-df-buttons div {\n",
              "      margin-bottom: 4px;\n",
              "    }\n",
              "\n",
              "    [theme=dark] .colab-df-convert {\n",
              "      background-color: #3B4455;\n",
              "      fill: #D2E3FC;\n",
              "    }\n",
              "\n",
              "    [theme=dark] .colab-df-convert:hover {\n",
              "      background-color: #434B5C;\n",
              "      box-shadow: 0px 1px 3px 1px rgba(0, 0, 0, 0.15);\n",
              "      filter: drop-shadow(0px 1px 2px rgba(0, 0, 0, 0.3));\n",
              "      fill: #FFFFFF;\n",
              "    }\n",
              "  </style>\n",
              "\n",
              "    <script>\n",
              "      const buttonEl =\n",
              "        document.querySelector('#df-0d641f93-b441-450e-bef0-e57087ca1bed button.colab-df-convert');\n",
              "      buttonEl.style.display =\n",
              "        google.colab.kernel.accessAllowed ? 'block' : 'none';\n",
              "\n",
              "      async function convertToInteractive(key) {\n",
              "        const element = document.querySelector('#df-0d641f93-b441-450e-bef0-e57087ca1bed');\n",
              "        const dataTable =\n",
              "          await google.colab.kernel.invokeFunction('convertToInteractive',\n",
              "                                                    [key], {});\n",
              "        if (!dataTable) return;\n",
              "\n",
              "        const docLinkHtml = 'Like what you see? Visit the ' +\n",
              "          '<a target=\"_blank\" href=https://colab.research.google.com/notebooks/data_table.ipynb>data table notebook</a>'\n",
              "          + ' to learn more about interactive tables.';\n",
              "        element.innerHTML = '';\n",
              "        dataTable['output_type'] = 'display_data';\n",
              "        await google.colab.output.renderOutput(dataTable, element);\n",
              "        const docLink = document.createElement('div');\n",
              "        docLink.innerHTML = docLinkHtml;\n",
              "        element.appendChild(docLink);\n",
              "      }\n",
              "    </script>\n",
              "  </div>\n",
              "\n",
              "\n",
              "<div id=\"df-d1981774-f1a7-4866-8792-0080a51380d6\">\n",
              "  <button class=\"colab-df-quickchart\" onclick=\"quickchart('df-d1981774-f1a7-4866-8792-0080a51380d6')\"\n",
              "            title=\"Suggest charts\"\n",
              "            style=\"display:none;\">\n",
              "\n",
              "<svg xmlns=\"http://www.w3.org/2000/svg\" height=\"24px\"viewBox=\"0 0 24 24\"\n",
              "     width=\"24px\">\n",
              "    <g>\n",
              "        <path d=\"M19 3H5c-1.1 0-2 .9-2 2v14c0 1.1.9 2 2 2h14c1.1 0 2-.9 2-2V5c0-1.1-.9-2-2-2zM9 17H7v-7h2v7zm4 0h-2V7h2v10zm4 0h-2v-4h2v4z\"/>\n",
              "    </g>\n",
              "</svg>\n",
              "  </button>\n",
              "\n",
              "<style>\n",
              "  .colab-df-quickchart {\n",
              "      --bg-color: #E8F0FE;\n",
              "      --fill-color: #1967D2;\n",
              "      --hover-bg-color: #E2EBFA;\n",
              "      --hover-fill-color: #174EA6;\n",
              "      --disabled-fill-color: #AAA;\n",
              "      --disabled-bg-color: #DDD;\n",
              "  }\n",
              "\n",
              "  [theme=dark] .colab-df-quickchart {\n",
              "      --bg-color: #3B4455;\n",
              "      --fill-color: #D2E3FC;\n",
              "      --hover-bg-color: #434B5C;\n",
              "      --hover-fill-color: #FFFFFF;\n",
              "      --disabled-bg-color: #3B4455;\n",
              "      --disabled-fill-color: #666;\n",
              "  }\n",
              "\n",
              "  .colab-df-quickchart {\n",
              "    background-color: var(--bg-color);\n",
              "    border: none;\n",
              "    border-radius: 50%;\n",
              "    cursor: pointer;\n",
              "    display: none;\n",
              "    fill: var(--fill-color);\n",
              "    height: 32px;\n",
              "    padding: 0;\n",
              "    width: 32px;\n",
              "  }\n",
              "\n",
              "  .colab-df-quickchart:hover {\n",
              "    background-color: var(--hover-bg-color);\n",
              "    box-shadow: 0 1px 2px rgba(60, 64, 67, 0.3), 0 1px 3px 1px rgba(60, 64, 67, 0.15);\n",
              "    fill: var(--button-hover-fill-color);\n",
              "  }\n",
              "\n",
              "  .colab-df-quickchart-complete:disabled,\n",
              "  .colab-df-quickchart-complete:disabled:hover {\n",
              "    background-color: var(--disabled-bg-color);\n",
              "    fill: var(--disabled-fill-color);\n",
              "    box-shadow: none;\n",
              "  }\n",
              "\n",
              "  .colab-df-spinner {\n",
              "    border: 2px solid var(--fill-color);\n",
              "    border-color: transparent;\n",
              "    border-bottom-color: var(--fill-color);\n",
              "    animation:\n",
              "      spin 1s steps(1) infinite;\n",
              "  }\n",
              "\n",
              "  @keyframes spin {\n",
              "    0% {\n",
              "      border-color: transparent;\n",
              "      border-bottom-color: var(--fill-color);\n",
              "      border-left-color: var(--fill-color);\n",
              "    }\n",
              "    20% {\n",
              "      border-color: transparent;\n",
              "      border-left-color: var(--fill-color);\n",
              "      border-top-color: var(--fill-color);\n",
              "    }\n",
              "    30% {\n",
              "      border-color: transparent;\n",
              "      border-left-color: var(--fill-color);\n",
              "      border-top-color: var(--fill-color);\n",
              "      border-right-color: var(--fill-color);\n",
              "    }\n",
              "    40% {\n",
              "      border-color: transparent;\n",
              "      border-right-color: var(--fill-color);\n",
              "      border-top-color: var(--fill-color);\n",
              "    }\n",
              "    60% {\n",
              "      border-color: transparent;\n",
              "      border-right-color: var(--fill-color);\n",
              "    }\n",
              "    80% {\n",
              "      border-color: transparent;\n",
              "      border-right-color: var(--fill-color);\n",
              "      border-bottom-color: var(--fill-color);\n",
              "    }\n",
              "    90% {\n",
              "      border-color: transparent;\n",
              "      border-bottom-color: var(--fill-color);\n",
              "    }\n",
              "  }\n",
              "</style>\n",
              "\n",
              "  <script>\n",
              "    async function quickchart(key) {\n",
              "      const quickchartButtonEl =\n",
              "        document.querySelector('#' + key + ' button');\n",
              "      quickchartButtonEl.disabled = true;  // To prevent multiple clicks.\n",
              "      quickchartButtonEl.classList.add('colab-df-spinner');\n",
              "      try {\n",
              "        const charts = await google.colab.kernel.invokeFunction(\n",
              "            'suggestCharts', [key], {});\n",
              "      } catch (error) {\n",
              "        console.error('Error during call to suggestCharts:', error);\n",
              "      }\n",
              "      quickchartButtonEl.classList.remove('colab-df-spinner');\n",
              "      quickchartButtonEl.classList.add('colab-df-quickchart-complete');\n",
              "    }\n",
              "    (() => {\n",
              "      let quickchartButtonEl =\n",
              "        document.querySelector('#df-d1981774-f1a7-4866-8792-0080a51380d6 button');\n",
              "      quickchartButtonEl.style.display =\n",
              "        google.colab.kernel.accessAllowed ? 'block' : 'none';\n",
              "    })();\n",
              "  </script>\n",
              "</div>\n",
              "\n",
              "  <div id=\"id_7078a556-5905-4b6d-9787-00d347cf342d\">\n",
              "    <style>\n",
              "      .colab-df-generate {\n",
              "        background-color: #E8F0FE;\n",
              "        border: none;\n",
              "        border-radius: 50%;\n",
              "        cursor: pointer;\n",
              "        display: none;\n",
              "        fill: #1967D2;\n",
              "        height: 32px;\n",
              "        padding: 0 0 0 0;\n",
              "        width: 32px;\n",
              "      }\n",
              "\n",
              "      .colab-df-generate:hover {\n",
              "        background-color: #E2EBFA;\n",
              "        box-shadow: 0px 1px 2px rgba(60, 64, 67, 0.3), 0px 1px 3px 1px rgba(60, 64, 67, 0.15);\n",
              "        fill: #174EA6;\n",
              "      }\n",
              "\n",
              "      [theme=dark] .colab-df-generate {\n",
              "        background-color: #3B4455;\n",
              "        fill: #D2E3FC;\n",
              "      }\n",
              "\n",
              "      [theme=dark] .colab-df-generate:hover {\n",
              "        background-color: #434B5C;\n",
              "        box-shadow: 0px 1px 3px 1px rgba(0, 0, 0, 0.15);\n",
              "        filter: drop-shadow(0px 1px 2px rgba(0, 0, 0, 0.3));\n",
              "        fill: #FFFFFF;\n",
              "      }\n",
              "    </style>\n",
              "    <button class=\"colab-df-generate\" onclick=\"generateWithVariable('df')\"\n",
              "            title=\"Generate code using this dataframe.\"\n",
              "            style=\"display:none;\">\n",
              "\n",
              "  <svg xmlns=\"http://www.w3.org/2000/svg\" height=\"24px\"viewBox=\"0 0 24 24\"\n",
              "       width=\"24px\">\n",
              "    <path d=\"M7,19H8.4L18.45,9,17,7.55,7,17.6ZM5,21V16.75L18.45,3.32a2,2,0,0,1,2.83,0l1.4,1.43a1.91,1.91,0,0,1,.58,1.4,1.91,1.91,0,0,1-.58,1.4L9.25,21ZM18.45,9,17,7.55Zm-12,3A5.31,5.31,0,0,0,4.9,8.1,5.31,5.31,0,0,0,1,6.5,5.31,5.31,0,0,0,4.9,4.9,5.31,5.31,0,0,0,6.5,1,5.31,5.31,0,0,0,8.1,4.9,5.31,5.31,0,0,0,12,6.5,5.46,5.46,0,0,0,6.5,12Z\"/>\n",
              "  </svg>\n",
              "    </button>\n",
              "    <script>\n",
              "      (() => {\n",
              "      const buttonEl =\n",
              "        document.querySelector('#id_7078a556-5905-4b6d-9787-00d347cf342d button.colab-df-generate');\n",
              "      buttonEl.style.display =\n",
              "        google.colab.kernel.accessAllowed ? 'block' : 'none';\n",
              "\n",
              "      buttonEl.onclick = () => {\n",
              "        google.colab.notebook.generateWithVariable('df');\n",
              "      }\n",
              "      })();\n",
              "    </script>\n",
              "  </div>\n",
              "\n",
              "    </div>\n",
              "  </div>\n"
            ],
            "application/vnd.google.colaboratory.intrinsic+json": {
              "type": "dataframe",
              "variable_name": "df",
              "summary": "{\n  \"name\": \"df\",\n  \"rows\": 7,\n  \"fields\": [\n    {\n      \"column\": \"LUGAR DE ESTUDIO\",\n      \"properties\": {\n        \"dtype\": \"string\",\n        \"num_unique_values\": 7,\n        \"samples\": [\n          \"MUNICIPAL / LOCAL / CORPORACIONES\",\n          \"PARTICULAR SUBVENCIONADO\",\n          \"UNIVERSIDAD\"\n        ],\n        \"semantic_type\": \"\",\n        \"description\": \"\"\n      }\n    },\n    {\n      \"column\": \"CANTIDAD DE PERSONAS\",\n      \"properties\": {\n        \"dtype\": \"number\",\n        \"std\": 311884,\n        \"min\": 784,\n        \"max\": 837310,\n        \"num_unique_values\": 7,\n        \"samples\": [\n          426155,\n          837310,\n          423011\n        ],\n        \"semantic_type\": \"\",\n        \"description\": \"\"\n      }\n    }\n  ]\n}"
            }
          },
          "metadata": {},
          "execution_count": 4
        }
      ]
    },
    {
      "cell_type": "code",
      "source": [
        "# b) ¿Cuantas personas estudian en un instituto profesional?\n",
        "cantidad= df[\"CANTIDAD DE PERSONAS\"][4]\n",
        "print(f'La cantidad de personas estudian en un instituto profesional {cantidad}')"
      ],
      "metadata": {
        "colab": {
          "base_uri": "https://localhost:8080/"
        },
        "id": "Qjha2YmJIpCc",
        "outputId": "b884cdf5-d7fc-4f34-ba74-54f2b3c415d9"
      },
      "execution_count": null,
      "outputs": [
        {
          "output_type": "stream",
          "name": "stdout",
          "text": [
            "La cantidad de personas estudian en un instituto profesional 160229\n"
          ]
        }
      ]
    },
    {
      "cell_type": "markdown",
      "source": [
        "**ACTIVIDAD 02**\n",
        "\n",
        "Considerando la variable aleatoria\n",
        "\n",
        "$X$ : \" *Estudiantes de un instituto profesional* \""
      ],
      "metadata": {
        "id": "ZewHbioYI6IV"
      }
    },
    {
      "cell_type": "code",
      "source": [
        "# a) Determine probabilidad de éxito\n",
        "p= df[\"CANTIDAD DE PERSONAS\"][4]/df[\"CANTIDAD DE PERSONAS\"].sum()\n",
        "p=round(p,6)\n",
        "print(f'La probabilidad de éxito es: {p}')"
      ],
      "metadata": {
        "colab": {
          "base_uri": "https://localhost:8080/"
        },
        "id": "gDmykulDLnCM",
        "outputId": "1954d04f-0d3a-4ce6-921f-607fb5461444"
      },
      "execution_count": null,
      "outputs": [
        {
          "output_type": "stream",
          "name": "stdout",
          "text": [
            "La probabilidad de éxito es: 0.08529\n"
          ]
        }
      ]
    },
    {
      "cell_type": "code",
      "source": [
        "# b) Determine probabilidad de fracaso\n",
        "q=1-p\n",
        "q=round(q,6)\n",
        "print(f'La probabilidad de fracaso es: {q}')"
      ],
      "metadata": {
        "colab": {
          "base_uri": "https://localhost:8080/"
        },
        "id": "XecL4rgoLvCF",
        "outputId": "65fe1276-2cba-4f42-c3af-456e4f81e239"
      },
      "execution_count": null,
      "outputs": [
        {
          "output_type": "stream",
          "name": "stdout",
          "text": [
            "La probabilidad de fracaso es: 0.91471\n"
          ]
        }
      ]
    },
    {
      "cell_type": "markdown",
      "source": [
        "**ACTIVIDAD 03**\n",
        "\n",
        "Considerando la variable aleatoria de la pregunta 02. Si se escogen, complete la tabla de distribución de probabilidades\n",
        "\n",
        "![Captura de pantalla 2024-08-02 a la(s) 2.15.51 p. m..png](data:image/png;base64,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)"
      ],
      "metadata": {
        "id": "E8_BBK3bRBhz"
      }
    },
    {
      "cell_type": "code",
      "source": [],
      "metadata": {
        "id": "bsvOMDEsTwwL"
      },
      "execution_count": null,
      "outputs": []
    }
  ]
}