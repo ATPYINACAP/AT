{
  "nbformat": 4,
  "nbformat_minor": 0,
  "metadata": {
    "colab": {
      "provenance": [],
      "authorship_tag": "ABX9TyP41Y5lf6cYVggRSgT2sR6b",
      "include_colab_link": true
    },
    "kernelspec": {
      "name": "python3",
      "display_name": "Python 3"
    },
    "language_info": {
      "name": "python"
    }
  },
  "cells": [
    {
      "cell_type": "markdown",
      "metadata": {
        "id": "view-in-github",
        "colab_type": "text"
      },
      "source": [
        "<a href=\"https://colab.research.google.com/github/ATPYINACAP/AT/blob/main/miprimerprog.ipynb\" target=\"_parent\"><img src=\"https://colab.research.google.com/assets/colab-badge.svg\" alt=\"Open In Colab\"/></a>"
      ]
    },
    {
      "cell_type": "markdown",
      "source": [
        "# **Primeros pasos**\n"
      ],
      "metadata": {
        "id": "oa2Qu-MkVDdw"
      }
    },
    {
      "cell_type": "code",
      "execution_count": null,
      "metadata": {
        "colab": {
          "base_uri": "https://localhost:8080/"
        },
        "id": "Aonk5sxMUysT",
        "outputId": "d981e5b7-68b1-4d60-cb20-e19f7fe90ebc"
      },
      "outputs": [
        {
          "output_type": "execute_result",
          "data": {
            "text/plain": [
              "7"
            ]
          },
          "metadata": {},
          "execution_count": 36
        }
      ],
      "source": [
        "# Como int\n",
        "7"
      ]
    },
    {
      "cell_type": "code",
      "source": [
        "# Como float\n",
        "3.5"
      ],
      "metadata": {
        "colab": {
          "base_uri": "https://localhost:8080/"
        },
        "id": "yzbuyLlGXlaK",
        "outputId": "cd7fbf64-c965-4299-802f-39fc88e9fb87"
      },
      "execution_count": null,
      "outputs": [
        {
          "output_type": "execute_result",
          "data": {
            "text/plain": [
              "3.5"
            ]
          },
          "metadata": {},
          "execution_count": 37
        }
      ]
    },
    {
      "cell_type": "code",
      "source": [
        "# Como str\n",
        "\"Hola mundo\""
      ],
      "metadata": {
        "colab": {
          "base_uri": "https://localhost:8080/",
          "height": 35
        },
        "id": "QKT16H5_XyNR",
        "outputId": "57385e42-fd81-46fc-8403-c8a76c259db0"
      },
      "execution_count": null,
      "outputs": [
        {
          "output_type": "execute_result",
          "data": {
            "text/plain": [
              "'Hola mundo'"
            ],
            "application/vnd.google.colaboratory.intrinsic+json": {
              "type": "string"
            }
          },
          "metadata": {},
          "execution_count": 38
        }
      ]
    },
    {
      "cell_type": "code",
      "source": [],
      "metadata": {
        "id": "c8Qx9CQjYJoP"
      },
      "execution_count": null,
      "outputs": []
    },
    {
      "cell_type": "markdown",
      "source": [
        "# **Usar variables**"
      ],
      "metadata": {
        "id": "yDHy5SlQVrsJ"
      }
    },
    {
      "cell_type": "code",
      "source": [
        "x= 7\n",
        "y= 3.5\n",
        "m= \"Hola\"\n",
        "n=\"mundo\"\n",
        "t= \"chao\"\n",
        "r1=x+y\n",
        "r2=x-y\n",
        "r3=x*y\n",
        "r4=x/y\n",
        "r1,r2, r3, r4\n",
        "# print(\"Su resultado es:\",r1)\n",
        "# print(\"Su resultado es:\",r2)\n",
        "# print(\"Su resultado es:\",r3)\n",
        "# print(\"Su resultado es:\",r4)\n"
      ],
      "metadata": {
        "colab": {
          "base_uri": "https://localhost:8080/"
        },
        "id": "umVhOlZxVxsd",
        "outputId": "bf4ed5b7-3a96-4f7f-d61a-df162d255041"
      },
      "execution_count": null,
      "outputs": [
        {
          "output_type": "execute_result",
          "data": {
            "text/plain": [
              "(10.5, 3.5, 24.5, 2.0)"
            ]
          },
          "metadata": {},
          "execution_count": 39
        }
      ]
    },
    {
      "cell_type": "code",
      "source": [
        "# Esto es una suma\n",
        "r1=x+y\n",
        "print(\"Su resultado es:\",r1)"
      ],
      "metadata": {
        "colab": {
          "base_uri": "https://localhost:8080/"
        },
        "id": "RfL-23kMYu9e",
        "outputId": "db2f39ae-cccf-428e-b232-c799e9d800f0"
      },
      "execution_count": null,
      "outputs": [
        {
          "output_type": "stream",
          "name": "stdout",
          "text": [
            "Su resultado es: 10.5\n"
          ]
        }
      ]
    },
    {
      "cell_type": "code",
      "source": [
        "# Esto es una resta\n",
        "r2=x-y\n",
        "print(\"Su resultado es:\",r2)"
      ],
      "metadata": {
        "colab": {
          "base_uri": "https://localhost:8080/"
        },
        "id": "4Fv6Y5byZ954",
        "outputId": "12e45908-98aa-4eda-9ea8-f5f4c4fdc458"
      },
      "execution_count": null,
      "outputs": [
        {
          "output_type": "stream",
          "name": "stdout",
          "text": [
            "Su resultado es: 3.5\n"
          ]
        }
      ]
    },
    {
      "cell_type": "code",
      "source": [
        "# Esto es una multiplicación\n",
        "r3=x*y\n",
        "print(\"Su resultado es:\",r3)"
      ],
      "metadata": {
        "colab": {
          "base_uri": "https://localhost:8080/"
        },
        "id": "P4IrzjZsa6BR",
        "outputId": "313ccab6-4ca3-4a34-b986-0af1659f0d15"
      },
      "execution_count": null,
      "outputs": [
        {
          "output_type": "stream",
          "name": "stdout",
          "text": [
            "Su resultado es: 24.5\n"
          ]
        }
      ]
    },
    {
      "cell_type": "code",
      "source": [
        "# Esto es una división\n",
        "r4=x/y\n",
        "print(\"Su resultado es:\",r4)"
      ],
      "metadata": {
        "colab": {
          "base_uri": "https://localhost:8080/"
        },
        "id": "0eveALFgbdpZ",
        "outputId": "f64f5a56-bea3-4132-fd10-6644e67e3160"
      },
      "execution_count": null,
      "outputs": [
        {
          "output_type": "stream",
          "name": "stdout",
          "text": [
            "Su resultado es: 2.0\n"
          ]
        }
      ]
    },
    {
      "cell_type": "code",
      "source": [
        "# ¿que es esto?\n",
        "r5 = m+\" \"+n\n",
        "print(\"Su resultado es:\",r5)"
      ],
      "metadata": {
        "colab": {
          "base_uri": "https://localhost:8080/"
        },
        "id": "O4gxFFfucSav",
        "outputId": "c00c3896-c941-4cb8-a7c8-58a4bcda40b0"
      },
      "execution_count": null,
      "outputs": [
        {
          "output_type": "stream",
          "name": "stdout",
          "text": [
            "Su resultado es: Hola mundo\n"
          ]
        }
      ]
    },
    {
      "cell_type": "code",
      "source": [
        "13%4"
      ],
      "metadata": {
        "colab": {
          "base_uri": "https://localhost:8080/"
        },
        "id": "KEZ_XIwzcptC",
        "outputId": "6a2a80a4-da18-44be-9efe-d7ccb5daa30e"
      },
      "execution_count": null,
      "outputs": [
        {
          "output_type": "execute_result",
          "data": {
            "text/plain": [
              "1"
            ]
          },
          "metadata": {},
          "execution_count": 47
        }
      ]
    },
    {
      "cell_type": "code",
      "source": [
        "tt=3<5"
      ],
      "metadata": {
        "id": "t80DHrGkfpx3"
      },
      "execution_count": null,
      "outputs": []
    },
    {
      "cell_type": "markdown",
      "source": [
        "# **Interactuar con el usuario**"
      ],
      "metadata": {
        "id": "e793q2o1dbh5"
      }
    },
    {
      "cell_type": "code",
      "source": [
        "# ingresar una variable de str\n",
        "nob=input(\"Dime tu nombre: \")"
      ],
      "metadata": {
        "colab": {
          "base_uri": "https://localhost:8080/"
        },
        "id": "do0cDE3xdlue",
        "outputId": "b8d4ffd4-92ba-49d1-9057-ee177503ff5c"
      },
      "execution_count": null,
      "outputs": [
        {
          "name": "stdout",
          "output_type": "stream",
          "text": [
            "Dime tu nombre: 17\n"
          ]
        }
      ]
    },
    {
      "cell_type": "code",
      "source": [
        "# ingresar una variable de int\n",
        "edad=int(input(\"Dime tu edad: \"))"
      ],
      "metadata": {
        "colab": {
          "base_uri": "https://localhost:8080/"
        },
        "id": "Wv4OLThVeeV_",
        "outputId": "650017db-c096-46d9-927c-384f73b7d5db"
      },
      "execution_count": null,
      "outputs": [
        {
          "name": "stdout",
          "output_type": "stream",
          "text": [
            "Dime tu edad: 19\n"
          ]
        }
      ]
    },
    {
      "cell_type": "code",
      "source": [
        "# ingresar una variable de float\n",
        "estatura=float(input(\"Dime tu estatura en metros: \"))"
      ],
      "metadata": {
        "colab": {
          "base_uri": "https://localhost:8080/"
        },
        "id": "mbKFpsbHeYNh",
        "outputId": "a2e32f80-139a-4924-c7f4-13aaaa05d43e"
      },
      "execution_count": null,
      "outputs": [
        {
          "name": "stdout",
          "output_type": "stream",
          "text": [
            "Dime tu estatura en metros: 1.74\n"
          ]
        }
      ]
    },
    {
      "cell_type": "code",
      "source": [
        "print(\"Su nombre es:\",nob)\n",
        "print(\"Su edad es:\",edad)\n",
        "print(\"Su estatura es:\",estatura, \"metros\")"
      ],
      "metadata": {
        "colab": {
          "base_uri": "https://localhost:8080/"
        },
        "id": "mIWCFGe-gUTt",
        "outputId": "0dc57440-50c8-4d28-abe0-665f325ff758"
      },
      "execution_count": null,
      "outputs": [
        {
          "output_type": "stream",
          "name": "stdout",
          "text": [
            "Su nombre es: Ivan\n",
            "Su edad es: 19\n",
            "Su estatura es: 1.74 metros\n"
          ]
        }
      ]
    },
    {
      "cell_type": "code",
      "source": [
        "nob,type(nob)"
      ],
      "metadata": {
        "id": "wogU-_Amgq85",
        "outputId": "f164aa06-eb51-46f6-88e0-29c798db7482",
        "colab": {
          "base_uri": "https://localhost:8080/"
        }
      },
      "execution_count": null,
      "outputs": [
        {
          "output_type": "execute_result",
          "data": {
            "text/plain": [
              "('17', str)"
            ]
          },
          "metadata": {},
          "execution_count": 75
        }
      ]
    }
  ]
}