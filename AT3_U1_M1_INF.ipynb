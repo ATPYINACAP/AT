{
  "nbformat": 4,
  "nbformat_minor": 0,
  "metadata": {
    "colab": {
      "provenance": [],
      "mount_file_id": "151-QXL5caNyWE4K8DK1Qn32SctoDiwxH",
      "authorship_tag": "ABX9TyO8bWE9emFQSDqM4pSxvx1b",
      "include_colab_link": true
    },
    "kernelspec": {
      "name": "python3",
      "display_name": "Python 3"
    },
    "language_info": {
      "name": "python"
    }
  },
  "cells": [
    {
      "cell_type": "markdown",
      "metadata": {
        "id": "view-in-github",
        "colab_type": "text"
      },
      "source": [
        "<a href=\"https://colab.research.google.com/github/ATPYINACAP/AT/blob/main/AT3_U1_M1_INF.ipynb\" target=\"_parent\"><img src=\"https://colab.research.google.com/assets/colab-badge.svg\" alt=\"Open In Colab\"/></a>"
      ]
    },
    {
      "cell_type": "code",
      "execution_count": 92,
      "metadata": {
        "id": "AgaS4zsuoMQj",
        "colab": {
          "base_uri": "https://localhost:8080/"
        },
        "outputId": "58814fce-a93d-457d-91c0-ee24227a5620"
      },
      "outputs": [
        {
          "output_type": "stream",
          "name": "stdout",
          "text": [
            "Drive already mounted at /content/drive; to attempt to forcibly remount, call drive.mount(\"/content/drive\", force_remount=True).\n"
          ]
        }
      ],
      "source": [
        "from google.colab import drive\n",
        "drive.mount('/content/drive')"
      ]
    },
    {
      "cell_type": "code",
      "source": [
        "import pandas as pd\n",
        "\n",
        "# Leer el archivo Excel\n",
        "df = pd.read_excel('/content/drive/MyDrive/CBEI01/AT03/AT3 - Fondos.xlsx')"
      ],
      "metadata": {
        "id": "XNAOve__rbuZ"
      },
      "execution_count": 93,
      "outputs": []
    },
    {
      "cell_type": "markdown",
      "source": [
        "**ACTIVIDAD 1:**\n",
        "Considerando los datos de la base “AT3 – Fondos”"
      ],
      "metadata": {
        "id": "yzilSqrrsRif"
      }
    },
    {
      "cell_type": "code",
      "source": [
        " #Determine el promedio de los fondos individuales de cesantía y de los fondos solidarios.\n",
        "\n",
        "\n",
        "# Pasos previos#\n",
        "\n",
        "df_filtrado=df[['Fondo de la Cuenta Individual de Cesantia','Fondo de Cesantia Solidario']]\n",
        "\n",
        "# Resumen sumario de la variables\n",
        "info1=df_filtrado.describe()\n",
        "\n",
        "# Identificar el tipo de datos disponible\n",
        "info2= df_filtrado.dtypes\n",
        "\n",
        "# Visualizar información\n",
        "print(info1,\"'\\n ---- \\n\",info2)\n"
      ],
      "metadata": {
        "colab": {
          "base_uri": "https://localhost:8080/"
        },
        "id": "Wgqm07uKsUrW",
        "outputId": "4b3dabcd-1eb4-4d19-9498-327c81e4e4ab"
      },
      "execution_count": 94,
      "outputs": [
        {
          "output_type": "stream",
          "name": "stdout",
          "text": [
            "        Fondo de la Cuenta Individual de Cesantia  Fondo de Cesantia Solidario\n",
            "count                                      234.00                       234.00\n",
            "unique                                     161.00                       162.00\n",
            "top                                       3603.24                      4238.06\n",
            "freq                                         4.00                         4.00 '\n",
            " ---- \n",
            " Fondo de la Cuenta Individual de Cesantia    object\n",
            "Fondo de Cesantia Solidario                  object\n",
            "dtype: object\n"
          ]
        }
      ]
    },
    {
      "cell_type": "code",
      "source": [
        "# Convertir variables de object a numericas\n",
        "\n",
        "df_filtrado['Fondo de la Cuenta Individual de Cesantia'] = pd.to_numeric(df['Fondo de la Cuenta Individual de Cesantia'], errors='coerce')\n",
        "df_filtrado['Fondo de Cesantia Solidario'] = pd.to_numeric(df['Fondo de Cesantia Solidario'], errors='coerce')\n"
      ],
      "metadata": {
        "colab": {
          "base_uri": "https://localhost:8080/"
        },
        "id": "w38xh7D3zfKo",
        "outputId": "6226d4be-48ce-4e6c-f971-54c6d002a284"
      },
      "execution_count": 95,
      "outputs": [
        {
          "output_type": "stream",
          "name": "stderr",
          "text": [
            "<ipython-input-95-b1b5372d1b2e>:3: SettingWithCopyWarning: \n",
            "A value is trying to be set on a copy of a slice from a DataFrame.\n",
            "Try using .loc[row_indexer,col_indexer] = value instead\n",
            "\n",
            "See the caveats in the documentation: https://pandas.pydata.org/pandas-docs/stable/user_guide/indexing.html#returning-a-view-versus-a-copy\n",
            "  df_filtrado['Fondo de la Cuenta Individual de Cesantia'] = pd.to_numeric(df['Fondo de la Cuenta Individual de Cesantia'], errors='coerce')\n",
            "<ipython-input-95-b1b5372d1b2e>:4: SettingWithCopyWarning: \n",
            "A value is trying to be set on a copy of a slice from a DataFrame.\n",
            "Try using .loc[row_indexer,col_indexer] = value instead\n",
            "\n",
            "See the caveats in the documentation: https://pandas.pydata.org/pandas-docs/stable/user_guide/indexing.html#returning-a-view-versus-a-copy\n",
            "  df_filtrado['Fondo de Cesantia Solidario'] = pd.to_numeric(df['Fondo de Cesantia Solidario'], errors='coerce')\n"
          ]
        }
      ]
    },
    {
      "cell_type": "code",
      "source": [
        "# Calcular promedio de los datos y guardarlos en m1\n",
        "m1=df_filtrado.mean()\n",
        "\n",
        "# Convertir en Data_Frame\n",
        "m1=pd.DataFrame(m1)\n",
        "\n",
        "# Se agrega nombre a la columna\n",
        "m1=m1.rename(columns={0: 'Promedio'})\n",
        "\n",
        "# Mostrar m1 con valores redondeados a con 2 cifras despues de la coma.\n",
        "print(m1.round(2))\n"
      ],
      "metadata": {
        "colab": {
          "base_uri": "https://localhost:8080/"
        },
        "id": "b-rnRHvd0FH1",
        "outputId": "279f0028-1b9c-4e86-8279-4c1966efa4fe"
      },
      "execution_count": 96,
      "outputs": [
        {
          "output_type": "stream",
          "name": "stdout",
          "text": [
            "                                           Promedio\n",
            "Fondo de la Cuenta Individual de Cesantia   3574.78\n",
            "Fondo de Cesantia Solidario                 4179.19\n"
          ]
        }
      ]
    },
    {
      "cell_type": "code",
      "source": [
        "#b)Determine la desviación muestral de los fondos individuales de cesantía y\n",
        "#de los fondos solidarios.\n",
        "\n",
        "# Utilizar libreria esencialmente para cálculos matemáticos\n",
        "import numpy as np\n",
        "\n",
        "# Calcular la desviación estándar muestral\n",
        "s1 = np.std(df_filtrado, ddof=1)\n",
        "\n",
        "# Se agrega columna con los nombres de los PIB\n",
        "s1=pd.DataFrame(s1)\n",
        "\n",
        "\n",
        "# Se agrega nombre a las columna\n",
        "s1=s1.rename(columns={0: 'Desv. estándar'})\n",
        "\n",
        "print(s1.round(2))"
      ],
      "metadata": {
        "colab": {
          "base_uri": "https://localhost:8080/"
        },
        "id": "I0RaBnJM0jvj",
        "outputId": "cab9ccec-1293-4bad-9a10-08377cc62c35"
      },
      "execution_count": 97,
      "outputs": [
        {
          "output_type": "stream",
          "name": "stdout",
          "text": [
            "                                           Desv. estándar\n",
            "Fondo de la Cuenta Individual de Cesantia           51.39\n",
            "Fondo de Cesantia Solidario                         77.24\n"
          ]
        },
        {
          "output_type": "stream",
          "name": "stderr",
          "text": [
            "/usr/local/lib/python3.10/dist-packages/numpy/core/fromnumeric.py:3643: FutureWarning: The behavior of DataFrame.std with axis=None is deprecated, in a future version this will reduce over both axes and return a scalar. To retain the old behavior, pass axis=0 (or do not pass axis)\n",
            "  return std(axis=axis, dtype=dtype, out=out, ddof=ddof, **kwargs)\n"
          ]
        }
      ]
    },
    {
      "cell_type": "code",
      "source": [],
      "metadata": {
        "id": "ZFpv2MkJFhla"
      },
      "execution_count": 97,
      "outputs": []
    },
    {
      "cell_type": "code",
      "source": [
        "#c) Considerando los fondos de cesantía solidarios como la muestra 1 y los fondos de\n",
        "#   cesantía individual como la muestra 2. Determine el estimador puntual de la\n",
        "#   diferencia entre las medias poblacionales de los fondos de cesantía.\n",
        "\n",
        "# Opción 01\n",
        "# Usando iloc para las posiciones para cálcular estimador puntual\n",
        "est_puntual =m1.iloc[1,0]-m1.iloc[0,0]\n",
        "print(est_puntual.round(2))"
      ],
      "metadata": {
        "colab": {
          "base_uri": "https://localhost:8080/"
        },
        "id": "pvFIfIFJCJ8I",
        "outputId": "bc9df47a-505f-49ca-9843-bdde11de4e66"
      },
      "execution_count": 98,
      "outputs": [
        {
          "output_type": "stream",
          "name": "stdout",
          "text": [
            "604.42\n"
          ]
        }
      ]
    },
    {
      "cell_type": "code",
      "source": [
        "# Opción 02\n",
        "\n",
        "# Calcular medias usando df\n",
        "mean_individual = df_filtrado['Fondo de la Cuenta Individual de Cesantia'].mean()\n",
        "mean_solidario = df_filtrado['Fondo de Cesantia Solidario'].mean()\n",
        "\n",
        "# Cálcular estimador puntual\n",
        "point_estimator = mean_solidario - mean_individual\n",
        "\n",
        "print(point_estimator.round(2))"
      ],
      "metadata": {
        "colab": {
          "base_uri": "https://localhost:8080/"
        },
        "id": "DoCQeya2DT2q",
        "outputId": "4fac2526-3158-42ec-efbc-edcd5f7e65a6"
      },
      "execution_count": 99,
      "outputs": [
        {
          "output_type": "stream",
          "name": "stdout",
          "text": [
            "604.42\n"
          ]
        }
      ]
    },
    {
      "cell_type": "code",
      "source": [
        "#d) Con un 90% de confianza, determine el error de estimación de la\n",
        "#   diferencia entre las medias poblacionales de los fondos de cesantía.\n",
        "\n",
        "# Usar libreria para cálculos estádisticos\n",
        "from scipy.stats import norm\n",
        "# Se determina el valor de Z\n",
        "alpha=0.10\n",
        "z = norm.ppf(1 - alpha / 2)\n",
        "n=len(df_filtrado['Fondo de la Cuenta Individual de Cesantia'])\n",
        "m=len(df_filtrado['Fondo de Cesantia Solidario'])\n",
        "E1= z*np.sqrt((s1.iloc[0,0]**2)/(n)+(s1.iloc[1,0]**2/m))\n",
        "\n",
        "print(E1)"
      ],
      "metadata": {
        "colab": {
          "base_uri": "https://localhost:8080/"
        },
        "id": "RYHWUiLWD9IH",
        "outputId": "0ff583ec-5338-45f2-a463-e731c491a5d2"
      },
      "execution_count": 100,
      "outputs": [
        {
          "output_type": "stream",
          "name": "stdout",
          "text": [
            "9.975841422723805\n"
          ]
        }
      ]
    },
    {
      "cell_type": "code",
      "source": [],
      "metadata": {
        "id": "LgntsfwyVt4r"
      },
      "execution_count": 100,
      "outputs": []
    },
    {
      "cell_type": "code",
      "source": [
        "n,m"
      ],
      "metadata": {
        "colab": {
          "base_uri": "https://localhost:8080/"
        },
        "id": "Tg3vE6TnTP6Q",
        "outputId": "a7ecccf2-92b4-4e34-f916-f7dee9eb119b"
      },
      "execution_count": 101,
      "outputs": [
        {
          "output_type": "execute_result",
          "data": {
            "text/plain": [
              "(234, 234)"
            ]
          },
          "metadata": {},
          "execution_count": 101
        }
      ]
    },
    {
      "cell_type": "code",
      "source": [
        " #e) Construya un intervalo de confianza del 90% de la diferencia entre las\n",
        " #   medias poblacionales de los fondos de cesantía.\n",
        "\n",
        "# Cálcular límites del intervalo de confianza r\n",
        "lim_sup=point_estimator+E1\n",
        "lim_inf=point_estimator-E1\n",
        "\n",
        "# mostrar y redondear con 2 decimales\n",
        "print(round(lim_inf,2),round(lim_sup,2))"
      ],
      "metadata": {
        "colab": {
          "base_uri": "https://localhost:8080/"
        },
        "id": "Ft2J5AdoLvNA",
        "outputId": "c7756176-c033-48a4-b782-8b4b6b32a6a2"
      },
      "execution_count": 102,
      "outputs": [
        {
          "output_type": "stream",
          "name": "stdout",
          "text": [
            "594.44 614.39\n"
          ]
        }
      ]
    },
    {
      "cell_type": "markdown",
      "source": [
        "**ACTIVIDAD 2:**\n",
        "\n",
        "Considerando los datos de la base “AT3 – Tasas de interés”. Considerando sólo los meses de Junio y Julio 2024"
      ],
      "metadata": {
        "id": "fnpqRcwiMQY6"
      }
    },
    {
      "cell_type": "code",
      "source": [
        "# Identificar nombre de las columnas\n",
        "df.columns"
      ],
      "metadata": {
        "colab": {
          "base_uri": "https://localhost:8080/"
        },
        "id": "tqHHMZzdM21I",
        "outputId": "9feaf6cf-4999-4d71-fb5c-3ecf780c27ab"
      },
      "execution_count": 103,
      "outputs": [
        {
          "output_type": "execute_result",
          "data": {
            "text/plain": [
              "Index(['Unnamed: 0', 'Fondo de la Cuenta Individual de Cesantia',\n",
              "       'Fondo de Cesantia Solidario'],\n",
              "      dtype='object')"
            ]
          },
          "metadata": {},
          "execution_count": 103
        }
      ]
    },
    {
      "cell_type": "code",
      "source": [
        "# Identificar el tipo de datos de la columna \"Periodo\"\n",
        "print(df['Unnamed: 0'].dtypes)"
      ],
      "metadata": {
        "colab": {
          "base_uri": "https://localhost:8080/"
        },
        "id": "86S1e_QnMZZA",
        "outputId": "9536b6c2-ff57-4712-8af0-e996d758812c"
      },
      "execution_count": 104,
      "outputs": [
        {
          "output_type": "stream",
          "name": "stdout",
          "text": [
            "object\n"
          ]
        }
      ]
    },
    {
      "cell_type": "code",
      "source": [
        "# Identicar nombre de la primera columna e imprimirlo\n",
        "first_column_name = df.columns[0]\n",
        "print(first_column_name)"
      ],
      "metadata": {
        "colab": {
          "base_uri": "https://localhost:8080/"
        },
        "id": "Oh2njm_MMXjD",
        "outputId": "35cfa9e0-c1e6-4217-86a7-49c148c03874"
      },
      "execution_count": 105,
      "outputs": [
        {
          "output_type": "stream",
          "name": "stdout",
          "text": [
            "Unnamed: 0\n"
          ]
        }
      ]
    },
    {
      "cell_type": "code",
      "source": [
        "# Renombrar la primera columna como fechas\n",
        "df_p2 = df.rename(columns={first_column_name: 'Fechas'})"
      ],
      "metadata": {
        "id": "UE6SBcxQO5eT"
      },
      "execution_count": 106,
      "outputs": []
    },
    {
      "cell_type": "code",
      "source": [
        "# Mostrar el tipo de datos de la columna fecha\n",
        "print(df_p2['Fechas'].dtypes)"
      ],
      "metadata": {
        "colab": {
          "base_uri": "https://localhost:8080/"
        },
        "id": "8orienovhqJ3",
        "outputId": "612142c4-bbf0-4977-c852-a14f08b17be8"
      },
      "execution_count": 107,
      "outputs": [
        {
          "output_type": "stream",
          "name": "stdout",
          "text": [
            "object\n"
          ]
        }
      ]
    },
    {
      "cell_type": "code",
      "source": [
        "# Cambiando el indice del data frame y renombrandola df_p2\n",
        "df_p2 = df_p2.iloc[1:]\n",
        "df_p2 = df_p2.reset_index(drop=True)"
      ],
      "metadata": {
        "id": "6oJ1hbUvUkpg"
      },
      "execution_count": 108,
      "outputs": []
    },
    {
      "cell_type": "code",
      "source": [
        "# Convertir columna fecha a formato fecha (datatime)\n",
        "df_p2['Fechas']=pd.to_datetime(df_p2['Fechas'])\n",
        "print(df_p2['Fechas'].dtypes)"
      ],
      "metadata": {
        "colab": {
          "base_uri": "https://localhost:8080/"
        },
        "id": "SIrulQ_-PeLF",
        "outputId": "d4bf36a1-66e9-40c5-909a-27105fd80e9e"
      },
      "execution_count": 109,
      "outputs": [
        {
          "output_type": "stream",
          "name": "stdout",
          "text": [
            "datetime64[ns]\n"
          ]
        }
      ]
    },
    {
      "cell_type": "code",
      "source": [
        "# Realizar filtro por rangos de fecha\n",
        "\n",
        "fecha_incial = pd.to_datetime('2024-06-01')\n",
        "fecha_final = pd.to_datetime('2024-07-31')\n",
        "df_fechas = df_p2[(df_p2['Fechas'] >= fecha_incial) & (df_p2['Fechas'] <= fecha_final)]\n",
        "\n",
        "# crear un df_filtrado con la inforción de acuerdo con el rango de fechas\n",
        "df_filtrado=df_fechas[['Fondo de la Cuenta Individual de Cesantia','Fondo de Cesantia Solidario']]\n"
      ],
      "metadata": {
        "id": "-UlVD4XLQPKo"
      },
      "execution_count": 110,
      "outputs": []
    },
    {
      "cell_type": "code",
      "source": [
        "#a) Si los fondos de cesantía solidarios como la muestra 1 y los fondos de\n",
        "#   cesantía individual como la muestra 2. Determine el estimador puntual de\n",
        "#   la diferencia entre las medias poblacionales de los fondos de cesantía.\n",
        "\n",
        "m1=df_filtrado.mean()\n",
        "\n",
        "m1=pd.DataFrame(m1)\n",
        "\n",
        "# Se agrega nombre a las columna\n",
        "m1=m1.rename(columns={0: 'Promedio'})\n",
        "\n",
        "# Cálculo de estimador puntual\n",
        "est_puntual =m1.iloc[1,0]-m1.iloc[0,0]\n",
        "\n",
        "print(f\"El estimador puntual es : {round(est_puntual,2)}\")"
      ],
      "metadata": {
        "colab": {
          "base_uri": "https://localhost:8080/"
        },
        "id": "XF0HxQpQQiKT",
        "outputId": "c88972d9-4609-4a06-f045-5a2ccabe4ae9"
      },
      "execution_count": 111,
      "outputs": [
        {
          "output_type": "stream",
          "name": "stdout",
          "text": [
            "El estimador puntual es : 622.11\n"
          ]
        }
      ]
    },
    {
      "cell_type": "code",
      "source": [
        "#b) Con un 92,5% de confianza, determine el error de estimación\n",
        "#   de la diferencia entre las medias poblacionales de los fondos de cesantía.\n",
        "\n",
        "# Calcular la desviación estándar muestral\n",
        "s1 = np.std(df_filtrado, ddof=1)\n",
        "\n",
        "# Se agrega columna con los nombres de los PIB\n",
        "s1=pd.DataFrame(s1)\n",
        "\n",
        "# Se agrega nombre a las columna\n",
        "s1=s1.rename(columns={0: 'Desv. estándar'})\n",
        "#s1=s1.transpose()\n",
        "#print(s1)\n",
        "\n",
        "n=len(df_filtrado['Fondo de la Cuenta Individual de Cesantia'])\n",
        "m=len(df_filtrado['Fondo de Cesantia Solidario'])\n",
        "\n",
        "from scipy.stats import norm\n",
        "# Se determina el valor de Z\n",
        "alpha=1-0.925\n",
        "z = norm.ppf(1 - alpha / 2)\n",
        "n=len(df_filtrado['Fondo de la Cuenta Individual de Cesantia'])\n",
        "m=len(df_filtrado['Fondo de Cesantia Solidario'])\n",
        "E1= z*np.sqrt((s1.iloc[0,0]**2/n+(s1.iloc[1,0])**2/m))\n",
        "\n",
        "print(E1)"
      ],
      "metadata": {
        "colab": {
          "base_uri": "https://localhost:8080/"
        },
        "id": "ys-FKmofSUXu",
        "outputId": "4f85d606-6a13-4172-edc6-3b968a354a34"
      },
      "execution_count": 112,
      "outputs": [
        {
          "output_type": "stream",
          "name": "stdout",
          "text": [
            "9.194209133564327\n"
          ]
        },
        {
          "output_type": "stream",
          "name": "stderr",
          "text": [
            "/usr/local/lib/python3.10/dist-packages/numpy/core/fromnumeric.py:3643: FutureWarning: The behavior of DataFrame.std with axis=None is deprecated, in a future version this will reduce over both axes and return a scalar. To retain the old behavior, pass axis=0 (or do not pass axis)\n",
            "  return std(axis=axis, dtype=dtype, out=out, ddof=ddof, **kwargs)\n"
          ]
        }
      ]
    },
    {
      "cell_type": "code",
      "source": [
        "#c) Construya un intervalo de confianza del 90% de la diferencia entre\n",
        "#   las medias poblacionales de los fondos de cesantía\n",
        "\n",
        "# Calcula IC, redondeando su valor con dos decimales\n",
        "lim_inf=round(est_puntual-E1,2)\n",
        "lim_sup=round(est_puntual+E1,2)\n",
        "\n",
        "print(lim_inf,lim_sup)"
      ],
      "metadata": {
        "colab": {
          "base_uri": "https://localhost:8080/"
        },
        "id": "bJBpCedsWWS6",
        "outputId": "1672646b-4e99-4600-8b9a-f88af25ee302"
      },
      "execution_count": 114,
      "outputs": [
        {
          "output_type": "stream",
          "name": "stdout",
          "text": [
            "612.91 631.3\n"
          ]
        }
      ]
    }
  ]
}