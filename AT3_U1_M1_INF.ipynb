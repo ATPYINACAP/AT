{
  "nbformat": 4,
  "nbformat_minor": 0,
  "metadata": {
    "colab": {
      "provenance": [],
      "mount_file_id": "151-QXL5caNyWE4K8DK1Qn32SctoDiwxH",
      "authorship_tag": "ABX9TyPi+ZkWRHQcia4JV7nMZuIO",
      "include_colab_link": true
    },
    "kernelspec": {
      "name": "python3",
      "display_name": "Python 3"
    },
    "language_info": {
      "name": "python"
    }
  },
  "cells": [
    {
      "cell_type": "markdown",
      "metadata": {
        "id": "view-in-github",
        "colab_type": "text"
      },
      "source": [
        "<a href=\"https://colab.research.google.com/github/ATPYINACAP/AT/blob/main/AT3_U1_M1_INF.ipynb\" target=\"_parent\"><img src=\"https://colab.research.google.com/assets/colab-badge.svg\" alt=\"Open In Colab\"/></a>"
      ]
    },
    {
      "cell_type": "code",
      "execution_count": 153,
      "metadata": {
        "id": "AgaS4zsuoMQj"
      },
      "outputs": [],
      "source": [
        "#from google.colab import drive\n",
        "#drive.mount('/content/drive')"
      ]
    },
    {
      "cell_type": "code",
      "source": [
        "import pandas as pd\n",
        "\n",
        "# Leer el archivo Excel\n",
        "df = pd.read_excel('/content/drive/MyDrive/CBEI01/AT03/AT3 - Fondos.xlsx')"
      ],
      "metadata": {
        "id": "XNAOve__rbuZ"
      },
      "execution_count": 154,
      "outputs": []
    },
    {
      "cell_type": "markdown",
      "source": [
        "**ACTIVIDAD 1:**\n",
        "Considerando los datos de la base “AT3 – Fondos”"
      ],
      "metadata": {
        "id": "yzilSqrrsRif"
      }
    },
    {
      "cell_type": "code",
      "source": [
        " #Determine el promedio de los fondos individuales de cesantía y de los fondos solidarios.\n",
        "\n",
        "df_filtrado=df[['Fondo de la Cuenta Individual de Cesantia','Fondo de Cesantia Solidario']]\n",
        "df_filtrado.describe()\n",
        "df_filtrado.dtypes"
      ],
      "metadata": {
        "colab": {
          "base_uri": "https://localhost:8080/",
          "height": 147
        },
        "id": "Wgqm07uKsUrW",
        "outputId": "acd120b9-68b9-4053-b748-70c00b199f46"
      },
      "execution_count": 155,
      "outputs": [
        {
          "output_type": "execute_result",
          "data": {
            "text/plain": [
              "Fondo de la Cuenta Individual de Cesantia    object\n",
              "Fondo de Cesantia Solidario                  object\n",
              "dtype: object"
            ],
            "text/html": [
              "<div>\n",
              "<style scoped>\n",
              "    .dataframe tbody tr th:only-of-type {\n",
              "        vertical-align: middle;\n",
              "    }\n",
              "\n",
              "    .dataframe tbody tr th {\n",
              "        vertical-align: top;\n",
              "    }\n",
              "\n",
              "    .dataframe thead th {\n",
              "        text-align: right;\n",
              "    }\n",
              "</style>\n",
              "<table border=\"1\" class=\"dataframe\">\n",
              "  <thead>\n",
              "    <tr style=\"text-align: right;\">\n",
              "      <th></th>\n",
              "      <th>0</th>\n",
              "    </tr>\n",
              "  </thead>\n",
              "  <tbody>\n",
              "    <tr>\n",
              "      <th>Fondo de la Cuenta Individual de Cesantia</th>\n",
              "      <td>object</td>\n",
              "    </tr>\n",
              "    <tr>\n",
              "      <th>Fondo de Cesantia Solidario</th>\n",
              "      <td>object</td>\n",
              "    </tr>\n",
              "  </tbody>\n",
              "</table>\n",
              "</div><br><label><b>dtype:</b> object</label>"
            ]
          },
          "metadata": {},
          "execution_count": 155
        }
      ]
    },
    {
      "cell_type": "code",
      "source": [
        "df_filtrado['Fondo de la Cuenta Individual de Cesantia'] = pd.to_numeric(df['Fondo de la Cuenta Individual de Cesantia'], errors='coerce')\n",
        "df_filtrado['Fondo de Cesantia Solidario'] = pd.to_numeric(df['Fondo de Cesantia Solidario'], errors='coerce')\n"
      ],
      "metadata": {
        "colab": {
          "base_uri": "https://localhost:8080/"
        },
        "id": "w38xh7D3zfKo",
        "outputId": "7c8d3193-7dc3-4579-c2be-cff953bb4bcc"
      },
      "execution_count": 156,
      "outputs": [
        {
          "output_type": "stream",
          "name": "stderr",
          "text": [
            "<ipython-input-156-fcabe2fe4c28>:1: SettingWithCopyWarning: \n",
            "A value is trying to be set on a copy of a slice from a DataFrame.\n",
            "Try using .loc[row_indexer,col_indexer] = value instead\n",
            "\n",
            "See the caveats in the documentation: https://pandas.pydata.org/pandas-docs/stable/user_guide/indexing.html#returning-a-view-versus-a-copy\n",
            "  df_filtrado['Fondo de la Cuenta Individual de Cesantia'] = pd.to_numeric(df['Fondo de la Cuenta Individual de Cesantia'], errors='coerce')\n",
            "<ipython-input-156-fcabe2fe4c28>:2: SettingWithCopyWarning: \n",
            "A value is trying to be set on a copy of a slice from a DataFrame.\n",
            "Try using .loc[row_indexer,col_indexer] = value instead\n",
            "\n",
            "See the caveats in the documentation: https://pandas.pydata.org/pandas-docs/stable/user_guide/indexing.html#returning-a-view-versus-a-copy\n",
            "  df_filtrado['Fondo de Cesantia Solidario'] = pd.to_numeric(df['Fondo de Cesantia Solidario'], errors='coerce')\n"
          ]
        }
      ]
    },
    {
      "cell_type": "code",
      "source": [
        "m1=df_filtrado.mean()\n",
        "\n",
        "m1=pd.DataFrame(m1)\n",
        "\n",
        "# Se agrega nombre a las columna\n",
        "m1=m1.rename(columns={0: 'Promedio'})\n",
        "\n",
        "#m1=m1.transpose()\n",
        "print(m1)\n"
      ],
      "metadata": {
        "colab": {
          "base_uri": "https://localhost:8080/"
        },
        "id": "b-rnRHvd0FH1",
        "outputId": "0a3054bf-b20e-42b5-9fe8-b309d529b1d0"
      },
      "execution_count": 157,
      "outputs": [
        {
          "output_type": "stream",
          "name": "stdout",
          "text": [
            "                                              Promedio\n",
            "Fondo de la Cuenta Individual de Cesantia  3574.776137\n",
            "Fondo de Cesantia Solidario                4179.192403\n"
          ]
        }
      ]
    },
    {
      "cell_type": "code",
      "source": [
        "#b)Determine la desviación muestral de los fondos individuales de cesantía y\n",
        "#de los fondos solidarios.\n",
        "\n",
        "import numpy as np\n",
        "\n",
        "# Calcular la desviación estándar muestral\n",
        "s1 = np.std(df_filtrado, ddof=1)\n",
        "\n",
        "# Se agrega columna con los nombres de los PIB\n",
        "s1=pd.DataFrame(s1)\n",
        "\n",
        "# Se agrega nombre a las columna\n",
        "s1=s1.rename(columns={0: 'Desv. estándar'})\n",
        "#s1=s1.transpose()\n",
        "print(s1)"
      ],
      "metadata": {
        "colab": {
          "base_uri": "https://localhost:8080/"
        },
        "id": "I0RaBnJM0jvj",
        "outputId": "f0e9f02b-27d4-4c5b-d420-9d7f62e105ec"
      },
      "execution_count": 158,
      "outputs": [
        {
          "output_type": "stream",
          "name": "stdout",
          "text": [
            "                                           Desv. estándar\n",
            "Fondo de la Cuenta Individual de Cesantia       51.387328\n",
            "Fondo de Cesantia Solidario                     77.243209\n"
          ]
        },
        {
          "output_type": "stream",
          "name": "stderr",
          "text": [
            "/usr/local/lib/python3.10/dist-packages/numpy/core/fromnumeric.py:3643: FutureWarning: The behavior of DataFrame.std with axis=None is deprecated, in a future version this will reduce over both axes and return a scalar. To retain the old behavior, pass axis=0 (or do not pass axis)\n",
            "  return std(axis=axis, dtype=dtype, out=out, ddof=ddof, **kwargs)\n"
          ]
        }
      ]
    },
    {
      "cell_type": "code",
      "source": [],
      "metadata": {
        "id": "ZFpv2MkJFhla"
      },
      "execution_count": 158,
      "outputs": []
    },
    {
      "cell_type": "code",
      "source": [
        "#c) Considerando los fondos de cesantía solidarios como la muestra 1 y los fondos de\n",
        "#   cesantía individual como la muestra 2. Determine el estimador puntual de la\n",
        "#   diferencia entre las medias poblacionales de los fondos de cesantía.\n",
        "\n",
        "est_puntual =m1.iloc[1,0]-m1.iloc[0,0]\n",
        "print(est_puntual)"
      ],
      "metadata": {
        "colab": {
          "base_uri": "https://localhost:8080/"
        },
        "id": "pvFIfIFJCJ8I",
        "outputId": "8b6f51f4-9f5f-4093-fc1e-3a9ecca58bc5"
      },
      "execution_count": 159,
      "outputs": [
        {
          "output_type": "stream",
          "name": "stdout",
          "text": [
            "604.4162660944216\n"
          ]
        }
      ]
    },
    {
      "cell_type": "code",
      "source": [
        "# Calculate means of both samples\n",
        "mean_individual = df_filtrado['Fondo de la Cuenta Individual de Cesantia'].mean()\n",
        "mean_solidario = df_filtrado['Fondo de Cesantia Solidario'].mean()\n",
        "\n",
        "# Calculate point estimator\n",
        "point_estimator = mean_solidario - mean_individual\n",
        "\n",
        "print(point_estimator)"
      ],
      "metadata": {
        "colab": {
          "base_uri": "https://localhost:8080/"
        },
        "id": "DoCQeya2DT2q",
        "outputId": "c6b3538c-9734-418a-f0b3-e4163b05ce45"
      },
      "execution_count": 160,
      "outputs": [
        {
          "output_type": "stream",
          "name": "stdout",
          "text": [
            "604.4162660944216\n"
          ]
        }
      ]
    },
    {
      "cell_type": "code",
      "source": [
        "from re import M\n",
        "#d) Con un 90% de confianza, determine el error de estimación de la\n",
        "#   diferencia entre las medias poblacionales de los fondos de cesantía.\n",
        "\n",
        "from scipy.stats import norm\n",
        "# Se determina el valor de Z\n",
        "alpha=0.10\n",
        "z = norm.ppf(1 - alpha / 2)\n",
        "n=len(df_filtrado['Fondo de la Cuenta Individual de Cesantia'])\n",
        "m=len(df_filtrado['Fondo de Cesantia Solidario'])\n",
        "E1= z*np.sqrt((s1.iloc[0,0]**2)/(n)+(s1.iloc[1,0]**2/m))\n",
        "\n",
        "print(E1)"
      ],
      "metadata": {
        "colab": {
          "base_uri": "https://localhost:8080/"
        },
        "id": "RYHWUiLWD9IH",
        "outputId": "7db983dc-9e60-4dd0-edb6-1182d3d92af6"
      },
      "execution_count": 161,
      "outputs": [
        {
          "output_type": "stream",
          "name": "stdout",
          "text": [
            "9.99722588761239\n"
          ]
        }
      ]
    },
    {
      "cell_type": "code",
      "source": [],
      "metadata": {
        "id": "LgntsfwyVt4r"
      },
      "execution_count": null,
      "outputs": []
    },
    {
      "cell_type": "code",
      "source": [
        "n,m"
      ],
      "metadata": {
        "colab": {
          "base_uri": "https://localhost:8080/"
        },
        "id": "Tg3vE6TnTP6Q",
        "outputId": "a4a47b7e-12b8-4db3-881a-f3ca7c85e39a"
      },
      "execution_count": 162,
      "outputs": [
        {
          "output_type": "execute_result",
          "data": {
            "text/plain": [
              "(234, 234)"
            ]
          },
          "metadata": {},
          "execution_count": 162
        }
      ]
    },
    {
      "cell_type": "code",
      "source": [
        " #e) Construya un intervalo de confianza del 90% de la diferencia entre las\n",
        " #   medias poblacionales de los fondos de cesantía.\n",
        "\n",
        "\n",
        "lim_inf=point_estimator-E1\n",
        "lim_sup=point_estimator+E1\n",
        "\n",
        "lim_inf,lim_sup"
      ],
      "metadata": {
        "colab": {
          "base_uri": "https://localhost:8080/"
        },
        "id": "Ft2J5AdoLvNA",
        "outputId": "4d8f45c5-4263-4133-c371-3039f7268c24"
      },
      "execution_count": 163,
      "outputs": [
        {
          "output_type": "execute_result",
          "data": {
            "text/plain": [
              "(594.4190402068092, 614.4134919820341)"
            ]
          },
          "metadata": {},
          "execution_count": 163
        }
      ]
    },
    {
      "cell_type": "markdown",
      "source": [
        "**ACTIVIDAD 2:**\n",
        "\n",
        "Considerando los datos de la base “AT3 – Tasas de interés”. Considerando sólo los meses de Junio y Julio 2024"
      ],
      "metadata": {
        "id": "fnpqRcwiMQY6"
      }
    },
    {
      "cell_type": "code",
      "source": [
        "df.columns"
      ],
      "metadata": {
        "colab": {
          "base_uri": "https://localhost:8080/"
        },
        "id": "tqHHMZzdM21I",
        "outputId": "5c2d7d43-c021-40da-ca83-9e0afc8031fd"
      },
      "execution_count": 164,
      "outputs": [
        {
          "output_type": "execute_result",
          "data": {
            "text/plain": [
              "Index(['Unnamed: 0', 'Fondo de la Cuenta Individual de Cesantia',\n",
              "       'Fondo de Cesantia Solidario'],\n",
              "      dtype='object')"
            ]
          },
          "metadata": {},
          "execution_count": 164
        }
      ]
    },
    {
      "cell_type": "code",
      "source": [
        "# Identificar el tipo de datos de la columna \"Periodo\"\n",
        "print(df['Unnamed: 0'].dtypes)"
      ],
      "metadata": {
        "colab": {
          "base_uri": "https://localhost:8080/"
        },
        "id": "86S1e_QnMZZA",
        "outputId": "f66f439b-51e4-44e9-8c8d-390c5d48b727"
      },
      "execution_count": 165,
      "outputs": [
        {
          "output_type": "stream",
          "name": "stdout",
          "text": [
            "object\n"
          ]
        }
      ]
    },
    {
      "cell_type": "code",
      "source": [
        "first_column_name = df.columns[0]\n",
        "print(first_column_name)\n"
      ],
      "metadata": {
        "colab": {
          "base_uri": "https://localhost:8080/"
        },
        "id": "Oh2njm_MMXjD",
        "outputId": "ed5d449f-6e77-4743-ac10-cbc9e9c41220"
      },
      "execution_count": 166,
      "outputs": [
        {
          "output_type": "stream",
          "name": "stdout",
          "text": [
            "Unnamed: 0\n"
          ]
        }
      ]
    },
    {
      "cell_type": "code",
      "source": [
        "df_p2 = df.rename(columns={first_column_name: 'Fechas'})\n",
        "print(df_p2['Fechas'].dtypes)"
      ],
      "metadata": {
        "colab": {
          "base_uri": "https://localhost:8080/"
        },
        "id": "UE6SBcxQO5eT",
        "outputId": "29814e83-ad41-47fd-d57a-30ad9e35c1f2"
      },
      "execution_count": 167,
      "outputs": [
        {
          "output_type": "stream",
          "name": "stdout",
          "text": [
            "object\n"
          ]
        }
      ]
    },
    {
      "cell_type": "code",
      "source": [
        "# Assuming 'df' is your DataFrame\n",
        "df_p2 = df_p2.iloc[1:]\n",
        "df_p2 = df_p2.reset_index(drop=True)\n"
      ],
      "metadata": {
        "id": "6oJ1hbUvUkpg"
      },
      "execution_count": 168,
      "outputs": []
    },
    {
      "cell_type": "code",
      "source": [
        "df_p2['Fechas']=pd.to_datetime(df_p2['Fechas'])\n",
        "print(df_p2['Fechas'].dtypes)\n"
      ],
      "metadata": {
        "colab": {
          "base_uri": "https://localhost:8080/"
        },
        "id": "SIrulQ_-PeLF",
        "outputId": "3571728b-351d-4abe-9c13-49e523a87deb"
      },
      "execution_count": 169,
      "outputs": [
        {
          "output_type": "stream",
          "name": "stdout",
          "text": [
            "datetime64[ns]\n"
          ]
        }
      ]
    },
    {
      "cell_type": "code",
      "source": [
        "fecha_incial = pd.to_datetime('2024-06-01')\n",
        "fecha_final = pd.to_datetime('2024-07-31')\n",
        "\n",
        "df_fechas = df_p2[(df_p2['Fechas'] >= fecha_incial) & (df_p2['Fechas'] <= fecha_final)]\n",
        "df_filtrado=df_fechas[['Fondo de la Cuenta Individual de Cesantia','Fondo de Cesantia Solidario']]\n"
      ],
      "metadata": {
        "id": "-UlVD4XLQPKo"
      },
      "execution_count": 170,
      "outputs": []
    },
    {
      "cell_type": "code",
      "source": [
        "#a) Si los fondos de cesantía solidarios como la muestra 1 y los fondos de\n",
        "#   cesantía individual como la muestra 2. Determine el estimador puntual de\n",
        "#   la diferencia entre las medias poblacionales de los fondos de cesantía.\n",
        "\n",
        "m1=df_filtrado.mean()\n",
        "\n",
        "m1=pd.DataFrame(m1)\n",
        "\n",
        "# Se agrega nombre a las columna\n",
        "m1=m1.rename(columns={0: 'Promedio'})\n",
        "\n",
        "#m1=m1.transpose()\n",
        "print(m1)\n",
        "est_puntual =m1.iloc[1,0]-m1.iloc[0,0]\n",
        "\n",
        "print(f\"El estimador puntual es : {est_puntual}\")\n"
      ],
      "metadata": {
        "colab": {
          "base_uri": "https://localhost:8080/"
        },
        "id": "XF0HxQpQQiKT",
        "outputId": "4ddf041f-1f3a-48c4-b746-094903e4b0d7"
      },
      "execution_count": 171,
      "outputs": [
        {
          "output_type": "stream",
          "name": "stdout",
          "text": [
            "                                              Promedio\n",
            "Fondo de la Cuenta Individual de Cesantia  3603.622459\n",
            "Fondo de Cesantia Solidario                4225.731311\n",
            "El estimador puntual es : 622.108852459015\n"
          ]
        }
      ]
    },
    {
      "cell_type": "code",
      "source": [
        "#b) Con un 92,5% de confianza, determine el error de estimación\n",
        "#   de la diferencia entre las medias poblacionales de los fondos de cesantía.\n",
        "\n",
        "# Calcular la desviación estándar muestral\n",
        "s1 = np.std(df_filtrado, ddof=1)\n",
        "\n",
        "# Se agrega columna con los nombres de los PIB\n",
        "s1=pd.DataFrame(s1)\n",
        "\n",
        "# Se agrega nombre a las columna\n",
        "s1=s1.rename(columns={0: 'Desv. estándar'})\n",
        "#s1=s1.transpose()\n",
        "#print(s1)\n",
        "\n",
        "n=len(df_filtrado['Fondo de la Cuenta Individual de Cesantia'])\n",
        "m=len(df_filtrado['Fondo de Cesantia Solidario'])\n",
        "\n",
        "from scipy.stats import norm\n",
        "# Se determina el valor de Z\n",
        "alpha=1-0.925\n",
        "z = norm.ppf(1 - alpha / 2)\n",
        "n=len(df_filtrado['Fondo de la Cuenta Individual de Cesantia'])\n",
        "m=len(df_filtrado['Fondo de Cesantia Solidario'])\n",
        "E1= z*np.sqrt((s1.iloc[0,0]**2/n+(s1.iloc[1,0])**2/m))\n",
        "\n",
        "print(E1)"
      ],
      "metadata": {
        "colab": {
          "base_uri": "https://localhost:8080/"
        },
        "id": "ys-FKmofSUXu",
        "outputId": "304bc3a8-2473-495e-d6b6-638ea00793b2"
      },
      "execution_count": 182,
      "outputs": [
        {
          "output_type": "stream",
          "name": "stdout",
          "text": [
            "9.194209133564327\n"
          ]
        },
        {
          "output_type": "stream",
          "name": "stderr",
          "text": [
            "/usr/local/lib/python3.10/dist-packages/numpy/core/fromnumeric.py:3643: FutureWarning: The behavior of DataFrame.std with axis=None is deprecated, in a future version this will reduce over both axes and return a scalar. To retain the old behavior, pass axis=0 (or do not pass axis)\n",
            "  return std(axis=axis, dtype=dtype, out=out, ddof=ddof, **kwargs)\n"
          ]
        }
      ]
    },
    {
      "cell_type": "code",
      "source": [
        "#c) Construya un intervalo de confianza del 90% de la diferencia entre\n",
        "#   las medias poblacionales de los fondos de cesantía\n",
        "\n",
        "lim_inf=est_puntual-E1\n",
        "lim_sup=est_puntual+E1\n",
        "\n",
        "lim_inf,lim_sup"
      ],
      "metadata": {
        "colab": {
          "base_uri": "https://localhost:8080/"
        },
        "id": "bJBpCedsWWS6",
        "outputId": "7533b458-c706-4cc9-d243-8d52d108a6c5"
      },
      "execution_count": 184,
      "outputs": [
        {
          "output_type": "execute_result",
          "data": {
            "text/plain": [
              "(612.9146433254507, 631.3030615925793)"
            ]
          },
          "metadata": {},
          "execution_count": 184
        }
      ]
    }
  ]
}