{
  "nbformat": 4,
  "nbformat_minor": 0,
  "metadata": {
    "colab": {
      "provenance": [],
      "mount_file_id": "1UUVGHJNcjmZW0L_BA3xmm1LuX0B7HNP1",
      "authorship_tag": "ABX9TyMq8RD+AijZF0WQZ9JbxYvA",
      "include_colab_link": true
    },
    "kernelspec": {
      "name": "python3",
      "display_name": "Python 3"
    },
    "language_info": {
      "name": "python"
    }
  },
  "cells": [
    {
      "cell_type": "markdown",
      "metadata": {
        "id": "view-in-github",
        "colab_type": "text"
      },
      "source": [
        "<a href=\"https://colab.research.google.com/github/ATPYINACAP/AT/blob/main/AT4_U1_M1_INF.ipynb\" target=\"_parent\"><img src=\"https://colab.research.google.com/assets/colab-badge.svg\" alt=\"Open In Colab\"/></a>"
      ]
    },
    {
      "cell_type": "code",
      "execution_count": 1,
      "metadata": {
        "colab": {
          "base_uri": "https://localhost:8080/"
        },
        "id": "8qwQMs5YX1q_",
        "outputId": "957e5345-b752-43b8-a15e-34f36bc6d949"
      },
      "outputs": [
        {
          "output_type": "stream",
          "name": "stdout",
          "text": [
            "Drive already mounted at /content/drive; to attempt to forcibly remount, call drive.mount(\"/content/drive\", force_remount=True).\n"
          ]
        }
      ],
      "source": [
        "from google.colab import drive\n",
        "drive.mount('/content/drive')"
      ]
    },
    {
      "cell_type": "code",
      "source": [
        "import pandas as pd\n",
        "\n",
        "# Leer el archivo Excel\n",
        "df = pd.read_excel('/content/drive/MyDrive/CBEI01/AT04/AT4 - Tasas de interes.xlsx')"
      ],
      "metadata": {
        "id": "qWwDq3loYBrX"
      },
      "execution_count": 2,
      "outputs": []
    },
    {
      "cell_type": "markdown",
      "source": [
        "**ACTIVIDAD 1:**\n",
        "\n",
        "Considerando los datos de la base “AT4 – Tasas de interés”\n"
      ],
      "metadata": {
        "id": "zKt4H1e9YmPK"
      }
    },
    {
      "cell_type": "code",
      "source": [
        "# Identificar el nombre de las columnas\n",
        "df.columns"
      ],
      "metadata": {
        "colab": {
          "base_uri": "https://localhost:8080/"
        },
        "id": "Vv-YmdqYZRuQ",
        "outputId": "ce6780a2-d10f-40c6-b585-06fb19660a0b"
      },
      "execution_count": 3,
      "outputs": [
        {
          "output_type": "execute_result",
          "data": {
            "text/plain": [
              "Index(['Día', 'Captaciones\\n(30 a 89 días)', 'Colocaciones\\n(30 a 89 días)'], dtype='object')"
            ]
          },
          "metadata": {},
          "execution_count": 3
        }
      ]
    },
    {
      "cell_type": "code",
      "source": [
        "#a) Determine la cantidad de días en los que tenemos la tasa de interés de las\n",
        "#   captaciones y de las colocaciones.\n",
        "\n",
        "# Contar y sumar el número de captaciones y colocaciones mayor que 0\n",
        "Cap=(df['Captaciones\\n(30 a 89 días)'] > 0).sum()\n",
        "Col=(df['Colocaciones\\n(30 a 89 días)'] > 0).sum()\n",
        "\n",
        "# Mostrar resultados\n",
        "print(\"Captaciones \",Cap)\n",
        "print(\"Colocaciones \",Col)"
      ],
      "metadata": {
        "colab": {
          "base_uri": "https://localhost:8080/"
        },
        "id": "UuYGKZgTYp-o",
        "outputId": "a7f182a3-53f2-4dce-f48a-3bd53dd3faee"
      },
      "execution_count": 18,
      "outputs": [
        {
          "output_type": "stream",
          "name": "stdout",
          "text": [
            "Captaciones  22\n",
            "Colocaciones  17\n"
          ]
        }
      ]
    },
    {
      "cell_type": "code",
      "source": [
        "#b) Determine en cada caso,la cantidad de días en que las tasas\n",
        "#   de interés son superiores a 5,5%\n",
        "\n",
        "# Contar y sumar el número de captaciones y colocaciones mayor que 5.5%\n",
        "Cap2=(df['Captaciones\\n(30 a 89 días)'] > 5.5).sum()\n",
        "Col2=(df['Colocaciones\\n(30 a 89 días)'] > 5.5).sum()\n",
        "\n",
        "# Mostrar resultados\n",
        "\n",
        "print(\"Captaciones superiores a 5.5% \",Cap2)\n",
        "print(\"Colocaciones superiores a 5.5% \",Col2)"
      ],
      "metadata": {
        "colab": {
          "base_uri": "https://localhost:8080/"
        },
        "id": "HmcdlH7qZo3H",
        "outputId": "c81638aa-f763-4552-c2cf-402509de3875"
      },
      "execution_count": 20,
      "outputs": [
        {
          "output_type": "stream",
          "name": "stdout",
          "text": [
            "Captaciones superiores a 5.5%  1\n",
            "Colocaciones superiores a 5.5%  17\n"
          ]
        }
      ]
    },
    {
      "cell_type": "code",
      "source": [
        "#c) Considerando las colocaciones como la muestra 1 y las captaciones como\n",
        "#   la muestra 2. Determine el estimador puntual de la diferencia de\n",
        "#   proporciones poblacionales de las tasas de interés.\n",
        "\n",
        "# Cálcular# p_hat_1, p_hat_2 y sus complementos\n",
        "p_hat_1=Cap2/Cap\n",
        "q_hat_1=1-p_hat_1\n",
        "p_hat_2=Col2/Col\n",
        "q_hat_2=1-p_hat_2\n",
        "\n",
        "# Calcular el estimador puntual de la diferencia de proporciones poblacionales\n",
        "est_puntual=p_hat_2-p_hat_1\n",
        "\n",
        "# Mostrar,convertir a porcentaje y redondear con 2 decimales\n",
        "print(\"El estimador puntual es :\",(est_puntual*100).round(2),\"%\")"
      ],
      "metadata": {
        "colab": {
          "base_uri": "https://localhost:8080/"
        },
        "id": "ealBiyzlaNb2",
        "outputId": "3bd45cc1-e9ae-4bc2-d33f-43448554889b"
      },
      "execution_count": 26,
      "outputs": [
        {
          "output_type": "stream",
          "name": "stdout",
          "text": [
            "El estimador puntual es : 95.45 %\n"
          ]
        }
      ]
    },
    {
      "cell_type": "code",
      "source": [
        "#d) Con un 90% de confianza, determine el error de estimación de la diferencia de\n",
        "#   proporciones poblacionales de las tasas de interés.\n",
        "\n",
        "# Libreria para cálculos estadísticos\n",
        "from scipy.stats import norm\n",
        "\n",
        "# Se determina el valor de Z\n",
        "alpha=0.10\n",
        "z = norm.ppf(1 - alpha / 2)\n",
        "\n",
        "# Numpy para operaciones matemáticas\n",
        "import numpy as np\n",
        "\n",
        "# Se determina el error de estimación\n",
        "E1=z*np.sqrt(((p_hat_1*q_hat_1)/Cap)+((p_hat_2*q_hat_2)/Col))\n",
        "\n",
        "# Mostrar error\n",
        "print(E1)"
      ],
      "metadata": {
        "colab": {
          "base_uri": "https://localhost:8080/"
        },
        "id": "2q3vZygrAO19",
        "outputId": "deeed57a-205f-4365-b84f-d6927938088a"
      },
      "execution_count": 7,
      "outputs": [
        {
          "output_type": "stream",
          "name": "stdout",
          "text": [
            "0.07304708385044326\n"
          ]
        }
      ]
    },
    {
      "cell_type": "code",
      "source": [
        "#e) Construya un intervalo de confianza del 90% de la diferencia de proporciones\n",
        "#   poblacionales de las tasas de interés.\n",
        "\n",
        "# Cálculo del IC\n",
        "Lim_inf=100*(est_puntual-E1)\n",
        "Lim_sup=100*(est_puntual+E1)\n",
        "\n",
        "# Redondear con dos decimales y mostra\n",
        "print(round(Lim_inf,2),round(Lim_sup,2))"
      ],
      "metadata": {
        "colab": {
          "base_uri": "https://localhost:8080/"
        },
        "id": "CZvGYrp7CW2l",
        "outputId": "301be0f2-7839-47ec-996f-30ac6eacef39"
      },
      "execution_count": 15,
      "outputs": [
        {
          "output_type": "stream",
          "name": "stdout",
          "text": [
            "88.15 102.76\n"
          ]
        }
      ]
    },
    {
      "cell_type": "markdown",
      "source": [
        "**ACTIVIDAD 2:**\n",
        "\n",
        "Considerando los datos de la base “AT4 – Tasas de interés”\n"
      ],
      "metadata": {
        "id": "UZAT8HAC27ts"
      }
    },
    {
      "cell_type": "code",
      "source": [
        "# a) Considerando las captaciones como la muestra 1 y las colocaciones como la muestra 2.\n",
        "#    Determine el estimador puntual de la diferencia de proporciones de las tasas\n",
        "#    de interés menores a 6,5%\n",
        "\n",
        "Cap2=(df['Captaciones\\n(30 a 89 días)'] < 6.5).sum()\n",
        "Col2=(df['Colocaciones\\n(30 a 89 días)'] < 6.5).sum()\n",
        "\n",
        "\n",
        "# Cálcular# p_hat_1, p_hat_2 y sus complementos\n",
        "p_hat_2=Cap2/Cap\n",
        "q_hat_2=1-p_hat_2\n",
        "p_hat_1=Col2/Col\n",
        "q_hat_1=1-p_hat_1\n",
        "\n",
        "# Calcular el estimador puntual de la diferencia de proporciones poblacionales\n",
        "est_puntual=p_hat_2-p_hat_1\n",
        "\n",
        "# Mostrar,convertir a porcentaje y redondear con 2 decimales\n",
        "print(\"El estimador puntual es :\",(est_puntual*100).round(2),\"%\")"
      ],
      "metadata": {
        "id": "wdVTZ5iW3BNh",
        "colab": {
          "base_uri": "https://localhost:8080/"
        },
        "outputId": "904bcebd-a3a6-4e14-e481-7b9e10363ffd"
      },
      "execution_count": 28,
      "outputs": [
        {
          "output_type": "stream",
          "name": "stdout",
          "text": [
            "El estimador puntual es : 88.24 %\n"
          ]
        }
      ]
    },
    {
      "cell_type": "code",
      "source": [
        "# b) Con un 98% de confianza, determine el error de estimación de la\n",
        "#    diferencia de proporciones poblacionales de las tasas de\n",
        "#    interés menores a 6,5%\n",
        "\n",
        "# Libreria para cálculos estadísticos\n",
        "from scipy.stats import norm\n",
        "\n",
        "# Se determina el valor de Z\n",
        "alpha=0.02\n",
        "z = norm.ppf(1 - alpha / 2)\n",
        "\n",
        "# Numpy para operaciones matemáticas\n",
        "import numpy as np\n",
        "\n",
        "# Se determina el error de estimación\n",
        "E1=z*np.sqrt(((p_hat_1*q_hat_1)/Col)+((p_hat_2*q_hat_2)/Cap))\n",
        "\n",
        "# Mostrar error\n",
        "print(E1)"
      ],
      "metadata": {
        "colab": {
          "base_uri": "https://localhost:8080/"
        },
        "id": "qci8kMO4cieE",
        "outputId": "9dee5097-7214-41c9-82dc-9e8102ece751"
      },
      "execution_count": 30,
      "outputs": [
        {
          "output_type": "stream",
          "name": "stdout",
          "text": [
            "0.18178661525251089\n"
          ]
        }
      ]
    },
    {
      "cell_type": "code",
      "source": [
        "# c) Construya un intervalo de confianza del 98% de la diferencia de\n",
        "#    proporciones poblacionales de las tasas de interés menores a 6,5%\n",
        "\n",
        "# Cálculo del IC\n",
        "Lim_inf=100*(est_puntual-E1)\n",
        "Lim_sup=100*(est_puntual+E1)\n",
        "\n",
        "# Redondear con dos decimales y mostrar\n",
        "print(round(Lim_inf,2),round(Lim_sup,2))"
      ],
      "metadata": {
        "colab": {
          "base_uri": "https://localhost:8080/"
        },
        "id": "BZ7j7qiOds4v",
        "outputId": "80c6101e-4851-4460-a0e0-3a0fddf94ca3"
      },
      "execution_count": 31,
      "outputs": [
        {
          "output_type": "stream",
          "name": "stdout",
          "text": [
            "70.06 106.41\n"
          ]
        }
      ]
    }
  ]
}