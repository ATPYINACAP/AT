{
  "nbformat": 4,
  "nbformat_minor": 0,
  "metadata": {
    "colab": {
      "provenance": [],
      "mount_file_id": "13BSrPJvqTsnZCpBus1w1kXucRv-tHkuR",
      "authorship_tag": "ABX9TyNVHWNTBviLkaliLUf5P6eg",
      "include_colab_link": true
    },
    "kernelspec": {
      "name": "python3",
      "display_name": "Python 3"
    },
    "language_info": {
      "name": "python"
    }
  },
  "cells": [
    {
      "cell_type": "markdown",
      "metadata": {
        "id": "view-in-github",
        "colab_type": "text"
      },
      "source": [
        "<a href=\"https://colab.research.google.com/github/ATPYINACAP/AT/blob/main/AT2_U1_M1_INF.ipynb\" target=\"_parent\"><img src=\"https://colab.research.google.com/assets/colab-badge.svg\" alt=\"Open In Colab\"/></a>"
      ]
    },
    {
      "cell_type": "code",
      "execution_count": 1,
      "metadata": {
        "id": "9UQ-dJ-tlJeD",
        "colab": {
          "base_uri": "https://localhost:8080/"
        },
        "outputId": "ae54fc47-82f9-44e4-bfa5-1961ca5b0307"
      },
      "outputs": [
        {
          "output_type": "stream",
          "name": "stdout",
          "text": [
            "Drive already mounted at /content/drive; to attempt to forcibly remount, call drive.mount(\"/content/drive\", force_remount=True).\n"
          ]
        }
      ],
      "source": [
        "from google.colab import drive\n",
        "drive.mount('/content/drive')"
      ]
    },
    {
      "cell_type": "code",
      "source": [
        "import pandas as pd\n",
        "\n",
        "# Leer el archivo Excel\n",
        "df = pd.read_excel('/content/drive/MyDrive/CBEI01/AT02/AT2 - UF.xlsx')"
      ],
      "metadata": {
        "id": "2n_u9bm0l6i6"
      },
      "execution_count": 2,
      "outputs": []
    },
    {
      "cell_type": "markdown",
      "source": [
        "**ACTIVIDAD 1:**\n",
        "\n",
        "Considerando los datos de la base “AT2 - UF”"
      ],
      "metadata": {
        "id": "j_xJw_SCw0VH"
      }
    },
    {
      "cell_type": "code",
      "source": [
        "df.columns"
      ],
      "metadata": {
        "colab": {
          "base_uri": "https://localhost:8080/"
        },
        "id": "IobSrfdk9o5D",
        "outputId": "6b8d4b13-6790-4961-a030-32602b3d351e"
      },
      "execution_count": 3,
      "outputs": [
        {
          "output_type": "execute_result",
          "data": {
            "text/plain": [
              "Index(['Día', 'Ene', 'Feb', 'Mar', 'Abr', 'May', 'Jun', 'Jul', 'Ago', 'Sep'], dtype='object')"
            ]
          },
          "metadata": {},
          "execution_count": 3
        }
      ]
    },
    {
      "cell_type": "code",
      "source": [
        "# a) Determine el promedio de la UF.\n",
        "\n",
        "#  elimina la columna dia para los calculos\n",
        "df_sin_columna_1 = df.drop(df.columns[0], axis=1)"
      ],
      "metadata": {
        "id": "R5T4zmM2wZ2P"
      },
      "execution_count": 4,
      "outputs": []
    },
    {
      "cell_type": "code",
      "source": [
        "# Libreria para cálculos matemáticos\n",
        "import numpy as np\n",
        "\n",
        "# Calculo del promedio\n",
        "\n",
        "# suma todas las columnas, guardando todos dichos resultados en columnas\n",
        "suma_columnas = df_sin_columna_1.sum()\n",
        "\n",
        "#convertirlo en un dataframe\n",
        "pd.DataFrame(suma_columnas)\n",
        "\n",
        "#calcular la suma de todos los resultados de las columnas\n",
        "sum=suma_columnas.sum()\n",
        "\n",
        "#----------------------------------------------------------------\n",
        "\n",
        "#contar si las celdas tienen información, guardando resuldados en columnas\n",
        "conteo_columnas = df_sin_columna_1.count()\n",
        "\n",
        "#convertirlo en un dataframe\n",
        "conteo_columnas=pd.DataFrame(conteo_columnas)\n",
        "\n",
        "#calcular la suma de todos los resultados de las columnas\n",
        "total=conteo_columnas.sum()\n",
        "\n",
        "# Calcular el promedio\n",
        "pro=sum/total\n",
        "\n",
        "# Redondear con 2 decimales\n",
        "pro=pro.values[0].round(2)\n",
        "\n",
        "print(f\"El promedio de la UF es: {pro}\")\n",
        "\n"
      ],
      "metadata": {
        "colab": {
          "base_uri": "https://localhost:8080/"
        },
        "id": "GA0xUpmGrn_9",
        "outputId": "363ee409-d4ec-403e-be4a-5c3a81561720"
      },
      "execution_count": 5,
      "outputs": [
        {
          "output_type": "stream",
          "name": "stdout",
          "text": [
            "El promedio de la UF es: 37250.93\n"
          ]
        }
      ]
    },
    {
      "cell_type": "code",
      "source": [
        "#b) Determine la cantidad de días en que la UF es mayor al promedio.\n",
        "\n",
        "# Se realiza filtro para determinar casos mayores al promedio determinado en la pregunta a)\n",
        "filtro1 = df_sin_columna_1 >= pro\n",
        "\n",
        "# sumas por mes que cumplen esta condición\n",
        "count_mayor_prom = filtro1.sum()\n",
        "\n",
        "#Convertir en dataframe\n",
        "count_mayor_prom=pd.DataFrame(count_mayor_prom)\n",
        "\n",
        "#calcular la suma de todos los resultados de las columnas\n",
        "cantidad=count_mayor_prom.sum()[0]\n",
        "\n",
        "#mostrar solución\n",
        "print(f\"La cantidad que cumple esta condición es : {cantidad}\")\n"
      ],
      "metadata": {
        "colab": {
          "base_uri": "https://localhost:8080/"
        },
        "id": "czIiITYi8mEr",
        "outputId": "727b7568-67bd-4164-9a31-8fef0299e67c"
      },
      "execution_count": 6,
      "outputs": [
        {
          "output_type": "stream",
          "name": "stdout",
          "text": [
            "La cantidad que cumple esta condición es : 135\n"
          ]
        }
      ]
    },
    {
      "cell_type": "code",
      "source": [
        "#c)Con un 90% de confianza determina el error que puedes cometer al calcular un\n",
        "#intervalo de confianza para la proporción de días en que la UF es mayor al promedio.\n",
        "\n",
        "#Determinamos p y q, cantidad y total se determinaron en preguntas a) y b)\n",
        "p= cantidad/total\n",
        "q=1-p\n",
        "\n",
        "# Para el calculo del valor z, usamos la libreria scipy\n",
        "\n",
        "from scipy.stats import norm\n",
        "# Se determina el valor de Z\n",
        "alpha=0.10\n",
        "\n",
        "#calculo de Z\n",
        "z = norm.ppf(1 - alpha / 2)\n",
        "\n",
        "#Determinamos el error\n",
        "E1= z*np.sqrt(p*q/total)[0]\n",
        "\n",
        "print(f\"El error es: {E1}\")"
      ],
      "metadata": {
        "colab": {
          "base_uri": "https://localhost:8080/"
        },
        "id": "wzbzMJv09DTz",
        "outputId": "55b61675-8f77-4779-d6e7-4098cc78bfbd"
      },
      "execution_count": 7,
      "outputs": [
        {
          "output_type": "stream",
          "name": "stdout",
          "text": [
            "El error es: 0.051588673729362405\n"
          ]
        }
      ]
    },
    {
      "cell_type": "code",
      "source": [
        "#d) Determina el intervalo de confianza del 90% para la proporción\n",
        "#señalada. Obtenemos el intervalo como 𝒑 ± 𝒆𝒓𝒓𝒐𝒓\n",
        "\n",
        "# Se calcula IC se redondea con 2 decimales\n",
        "IC1=(round(p-E1,2)[0],round(p+E1,2)[0])\n",
        "\n",
        "# Se muestran los intervalos de confianza\n",
        "print(f\"El IC: {IC1}\")"
      ],
      "metadata": {
        "colab": {
          "base_uri": "https://localhost:8080/"
        },
        "id": "aqmvInDn1sQI",
        "outputId": "bb3724ee-eff9-4e51-a5e5-bcd963c87a0b"
      },
      "execution_count": 14,
      "outputs": [
        {
          "output_type": "stream",
          "name": "stdout",
          "text": [
            "El IC: (0.39, 0.63)\n"
          ]
        }
      ]
    },
    {
      "cell_type": "markdown",
      "source": [
        "**ACTIVIDAD 2:**\n",
        "\n",
        "Considerando los datos de la base “AT2 - UF” el período junio – agosto 2024"
      ],
      "metadata": {
        "id": "q8TGFDNNUKtM"
      }
    },
    {
      "cell_type": "code",
      "source": [
        "# Para identificar los nombres de la columnas.\n",
        "df_sin_columna_1.columns"
      ],
      "metadata": {
        "colab": {
          "base_uri": "https://localhost:8080/"
        },
        "id": "TxWu1osFWUKG",
        "outputId": "8d6fa7f4-aaa2-4757-f5e9-56a1ce23578e"
      },
      "execution_count": 9,
      "outputs": [
        {
          "output_type": "execute_result",
          "data": {
            "text/plain": [
              "Index(['Ene', 'Feb', 'Mar', 'Abr', 'May', 'Jun', 'Jul', 'Ago', 'Sep'], dtype='object')"
            ]
          },
          "metadata": {},
          "execution_count": 9
        }
      ]
    },
    {
      "cell_type": "code",
      "source": [
        "#a) Determine la cantidad de días en que la UF es mayor al promedio del período.\n",
        "\n",
        "# Identificar el tipo de datos de la columna \"Periodo\"\n",
        "df_filtrado=df_sin_columna_1[['Jun','Jul', 'Ago']]\n",
        "\n",
        "# Calculo del promedio del periodo\n",
        "\n",
        "# suma todas las columnas, guardando todos dichos resultados en columnas\n",
        "suma_columnas = df_filtrado.sum()\n",
        "\n",
        "#convertirlo en un dataframe\n",
        "pd.DataFrame(suma_columnas)\n",
        "\n",
        "#calcular la suma de todos los resultados de las columnas\n",
        "sum=suma_columnas.sum()\n",
        "\n",
        "#----------------------------------------------------------------\n",
        "\n",
        "#contar si las celdas tienen información, guardando resuldados en columnas\n",
        "conteo_columnas = df_filtrado.count()\n",
        "\n",
        "#convertirlo en un dataframe\n",
        "conteo_columnas=pd.DataFrame(conteo_columnas)\n",
        "\n",
        "#calcular la suma de todos los resultados de las columnas\n",
        "total=conteo_columnas.sum()\n",
        "\n",
        "# Calcular el promedio\n",
        "\n",
        "#redondear\n",
        "pro=sum/total\n",
        "pro=pro.values[0]\n",
        "\n",
        "# Se realiza filtro\n",
        "filtro1 = df_filtrado > pro\n",
        "\n",
        "# sumas por mes que cumplen esta condición\n",
        "count_mayor_prom = filtro1.sum()\n",
        "\n",
        "#Convertir en dataframe\n",
        "count_mayor_prom=pd.DataFrame(count_mayor_prom)\n",
        "\n",
        "#calcular la suma de todos los resultados de las columnas\n",
        "cantidad=count_mayor_prom.sum()[0]\n",
        "\n",
        "print(f\"Días del periodo: {total.values[0]}\")\n",
        "print(f\"Días del periodo mayor al promedio: {cantidad}\")\n",
        "print(f\"El promedio de la UF período junio – agosto 2020 es: {pro}\")"
      ],
      "metadata": {
        "colab": {
          "base_uri": "https://localhost:8080/"
        },
        "id": "6VdLfpg24Oir",
        "outputId": "b6a6bf1d-6853-4109-ef35-08a5a854a599"
      },
      "execution_count": 10,
      "outputs": [
        {
          "output_type": "stream",
          "name": "stdout",
          "text": [
            "Días del periodo: 92\n",
            "Días del periodo mayor al promedio: 47\n",
            "El promedio de la UF período junio – agosto 2020 es: 37582.292282608694\n"
          ]
        }
      ]
    },
    {
      "cell_type": "code",
      "source": [
        "#b) Con un 95% determina el intervalo de confianza para la proporción\n",
        "#de días en que la UF es mayor al promedio del período\n",
        "\n",
        "# Se determina el valor de Z\n",
        "NC=0.95\n",
        "alpha=1-NC\n",
        "z = norm.ppf(1 - alpha / 2)\n",
        "\n",
        "#Determinamos p y q\n",
        "p= cantidad/total\n",
        "q=1-p\n",
        "\n",
        "# Se calculo el error\n",
        "E1= z*np.sqrt(p*q/total)[0]\n",
        "\n",
        "# Límites inf y sup del IC\n",
        "lim_inf=p-E1\n",
        "lim_sup=p+E1\n",
        "\n",
        "print(f\"El intervalo de confianza es: ({round(lim_inf,2)[0]},{round(lim_sup,2)[0]})\")"
      ],
      "metadata": {
        "id": "a_70_1unWBXH",
        "colab": {
          "base_uri": "https://localhost:8080/"
        },
        "outputId": "f4d0162a-9eb9-4467-d1eb-964097a6875d"
      },
      "execution_count": 15,
      "outputs": [
        {
          "output_type": "stream",
          "name": "stdout",
          "text": [
            "El intervalo de confianza es: (0.41,0.61)\n"
          ]
        }
      ]
    },
    {
      "cell_type": "code",
      "source": [
        "#c) Con un 98% determina el intervalo de confianza para la proporción\n",
        "#de días en que la UF es mayor al promedio del período.\n",
        "\n",
        "# Se determina el valor de Z\n",
        "NC=0.98\n",
        "alpha=1-NC\n",
        "z = norm.ppf(1 - alpha / 2)\n",
        "\n",
        "#Determinamos p y q\n",
        "p= cantidad/total\n",
        "q=1-p\n",
        "\n",
        "# Se calculo el error\n",
        "E1= z*np.sqrt(p*q/total)[0]\n",
        "\n",
        "# Límites inf y sup del IC\n",
        "lim_inf=p-E1\n",
        "lim_sup=p+E1\n",
        "\n",
        "print(f\"El intervalo de confianza es: ({round(lim_inf,2)[0]},{round(lim_sup,2)[0]})\")"
      ],
      "metadata": {
        "colab": {
          "base_uri": "https://localhost:8080/"
        },
        "id": "PznswE2ObgF3",
        "outputId": "f8b2911c-e308-48a9-eeb6-20c86f035be4"
      },
      "execution_count": 16,
      "outputs": [
        {
          "output_type": "stream",
          "name": "stdout",
          "text": [
            "El intervalo de confianza es: (0.39,0.63)\n"
          ]
        }
      ]
    }
  ]
}