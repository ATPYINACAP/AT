{
  "nbformat": 4,
  "nbformat_minor": 0,
  "metadata": {
    "colab": {
      "provenance": [],
      "mount_file_id": "13BSrPJvqTsnZCpBus1w1kXucRv-tHkuR",
      "authorship_tag": "ABX9TyMJRCuippORwE8o49LdPL48",
      "include_colab_link": true
    },
    "kernelspec": {
      "name": "python3",
      "display_name": "Python 3"
    },
    "language_info": {
      "name": "python"
    }
  },
  "cells": [
    {
      "cell_type": "markdown",
      "metadata": {
        "id": "view-in-github",
        "colab_type": "text"
      },
      "source": [
        "<a href=\"https://colab.research.google.com/github/ATPYINACAP/AT/blob/main/AT2_U1_M1_INF.ipynb\" target=\"_parent\"><img src=\"https://colab.research.google.com/assets/colab-badge.svg\" alt=\"Open In Colab\"/></a>"
      ]
    },
    {
      "cell_type": "code",
      "execution_count": 115,
      "metadata": {
        "id": "9UQ-dJ-tlJeD",
        "colab": {
          "base_uri": "https://localhost:8080/"
        },
        "outputId": "3f2f726c-0055-4190-9e35-5dff14d8b0c1"
      },
      "outputs": [
        {
          "output_type": "stream",
          "name": "stdout",
          "text": [
            "Drive already mounted at /content/drive; to attempt to forcibly remount, call drive.mount(\"/content/drive\", force_remount=True).\n"
          ]
        }
      ],
      "source": [
        "from google.colab import drive\n",
        "drive.mount('/content/drive')"
      ]
    },
    {
      "cell_type": "code",
      "source": [
        "import pandas as pd\n",
        "\n",
        "# Leer el archivo Excel\n",
        "df = pd.read_excel('/content/drive/MyDrive/CBEI01/AT02/AT2 - UF.xlsx')"
      ],
      "metadata": {
        "id": "2n_u9bm0l6i6"
      },
      "execution_count": 116,
      "outputs": []
    },
    {
      "cell_type": "markdown",
      "source": [
        "**ACTIVIDAD 1:**\n",
        "\n",
        "Considerando los datos de la base “AT2 - UF”"
      ],
      "metadata": {
        "id": "j_xJw_SCw0VH"
      }
    },
    {
      "cell_type": "code",
      "source": [
        "df.columns"
      ],
      "metadata": {
        "colab": {
          "base_uri": "https://localhost:8080/"
        },
        "id": "IobSrfdk9o5D",
        "outputId": "c7dfeb74-a8b0-4c31-982f-d5eab22c8049"
      },
      "execution_count": 117,
      "outputs": [
        {
          "output_type": "execute_result",
          "data": {
            "text/plain": [
              "Index(['Día', 'Ene', 'Feb', 'Mar', 'Abr', 'May', 'Jun', 'Jul', 'Ago', 'Sep'], dtype='object')"
            ]
          },
          "metadata": {},
          "execution_count": 117
        }
      ]
    },
    {
      "cell_type": "code",
      "source": [
        "# a) Determine el promedio de la UF.\n",
        "# Elimina la columna dia para los calculos\n",
        "df_sin_columna_1 = df.drop(df.columns[0], axis=1)"
      ],
      "metadata": {
        "id": "R5T4zmM2wZ2P"
      },
      "execution_count": 118,
      "outputs": []
    },
    {
      "cell_type": "code",
      "source": [
        "import numpy as np\n",
        "# Calculo del promedio\n",
        "\n",
        "# suma todas las columnas, guardando todos dichos resultados en columnas\n",
        "suma_columnas = df_sin_columna_1.sum()\n",
        "\n",
        "#convertirlo en un dataframe\n",
        "pd.DataFrame(suma_columnas)\n",
        "\n",
        "#calcular la suma de todos los resultados de las columnas\n",
        "sum=suma_columnas.sum()\n",
        "\n",
        "#----------------------------------------------------------------\n",
        "\n",
        "#contar si las celdas tienen información, guardando resuldados en columnas\n",
        "conteo_columnas = df_sin_columna_1.count()\n",
        "\n",
        "#convertirlo en un dataframe\n",
        "conteo_columnas=pd.DataFrame(conteo_columnas)\n",
        "\n",
        "#calcular la suma de todos los resultados de las columnas\n",
        "total=conteo_columnas.sum()\n",
        "\n",
        "# Calcular el promedio\n",
        "\n",
        "#redondear\n",
        "pro=sum/total\n",
        "\n",
        "pro=pro.values[0]\n",
        "\n",
        "print(f\"El promedio de la UF es: {pro}\")\n"
      ],
      "metadata": {
        "colab": {
          "base_uri": "https://localhost:8080/"
        },
        "id": "GA0xUpmGrn_9",
        "outputId": "b4d2ae5d-8a2e-4ecc-bff1-753089ff6022"
      },
      "execution_count": 119,
      "outputs": [
        {
          "output_type": "stream",
          "name": "stdout",
          "text": [
            "El promedio de la UF es: 37250.93371541502\n"
          ]
        }
      ]
    },
    {
      "cell_type": "code",
      "source": [],
      "metadata": {
        "id": "j85vyrMkzJzg"
      },
      "execution_count": 119,
      "outputs": []
    },
    {
      "cell_type": "code",
      "source": [
        "#b) Determine la cantidad de días en que la UF es mayor al promedio.\n",
        "# Se realiza filtro\n",
        "filtro1 = df_sin_columna_1 >= pro\n",
        "\n",
        "# sumas por mes que cumplen esta condición\n",
        "count_mayor_prom = filtro1.sum()\n",
        "\n",
        "#Convertir en dataframe\n",
        "count_mayor_prom=pd.DataFrame(count_mayor_prom)\n",
        "\n",
        "#calcular la suma de todos los resultados de las columnas\n",
        "cantidad=count_mayor_prom.sum()[0]\n",
        "\n",
        "#mostrar solución\n",
        "print(f\"La cantidad que cumple esta condición es : {cantidad}\")\n"
      ],
      "metadata": {
        "colab": {
          "base_uri": "https://localhost:8080/"
        },
        "id": "czIiITYi8mEr",
        "outputId": "83c3d238-993e-4fd9-cef6-fc099096698a"
      },
      "execution_count": 120,
      "outputs": [
        {
          "output_type": "stream",
          "name": "stdout",
          "text": [
            "La cantidad que cumple esta condición es : 135\n"
          ]
        }
      ]
    },
    {
      "cell_type": "code",
      "source": [
        "#c)Con un 90% de confianza determina el error que puedes cometer al calcular un\n",
        "#intervalo de confianza para la proporción de días en que la UF es mayor al promedio.\n",
        "\n",
        "#Determinamos p y q\n",
        "p= cantidad/total\n",
        "q=1-p\n",
        "\n",
        "\n",
        "from scipy.stats import norm\n",
        "# Se determina el valor de Z\n",
        "alpha=0.10\n",
        "z = norm.ppf(1 - alpha / 2)\n",
        "\n",
        "E1= z*np.sqrt(p*q/total)[0]\n",
        "\n",
        "print(f\"El error es: {E1}\")"
      ],
      "metadata": {
        "colab": {
          "base_uri": "https://localhost:8080/"
        },
        "id": "wzbzMJv09DTz",
        "outputId": "b162a6b5-86c2-49b8-8a4a-f48072c8fa91"
      },
      "execution_count": 121,
      "outputs": [
        {
          "output_type": "stream",
          "name": "stdout",
          "text": [
            "El error es: 0.051588673729362405\n"
          ]
        }
      ]
    },
    {
      "cell_type": "code",
      "source": [
        "#d) Determina el interva lo de confianza del 90% para la proporción\n",
        "#señalada. Obtenemos el intervalo como 𝒑 ± 𝒆𝒓𝒓𝒐𝒓\n",
        "\n",
        "# Se calcula IC se redondea con 2 decimales\n",
        "IC1=(round(p-E1,2),round(p+E1,2))\n",
        "\n",
        "# Se muestran los intervalos de confianza\n",
        "print(f\"El IC: {IC1}\")"
      ],
      "metadata": {
        "colab": {
          "base_uri": "https://localhost:8080/"
        },
        "id": "aqmvInDn1sQI",
        "outputId": "7b654ae4-466d-4e5f-f2a3-f994a5a6aac0"
      },
      "execution_count": 122,
      "outputs": [
        {
          "output_type": "stream",
          "name": "stdout",
          "text": [
            "El IC: (0    0.48\n",
            "dtype: float64, 0    0.59\n",
            "dtype: float64)\n"
          ]
        }
      ]
    },
    {
      "cell_type": "markdown",
      "source": [
        "**ACTIVIDAD 2:**\n",
        "\n",
        "Considerando los datos de la base “AT2 - UF” el período junio – agosto 2024"
      ],
      "metadata": {
        "id": "q8TGFDNNUKtM"
      }
    },
    {
      "cell_type": "code",
      "source": [
        "df_sin_columna_1.columns"
      ],
      "metadata": {
        "colab": {
          "base_uri": "https://localhost:8080/"
        },
        "id": "TxWu1osFWUKG",
        "outputId": "2f42fe9e-b539-479a-bb2c-fc2912eb2314"
      },
      "execution_count": 123,
      "outputs": [
        {
          "output_type": "execute_result",
          "data": {
            "text/plain": [
              "Index(['Ene', 'Feb', 'Mar', 'Abr', 'May', 'Jun', 'Jul', 'Ago', 'Sep'], dtype='object')"
            ]
          },
          "metadata": {},
          "execution_count": 123
        }
      ]
    },
    {
      "cell_type": "code",
      "source": [
        "#a) Determine la cantidad de días en que la UF es mayor al promedio del período.\n",
        "\n",
        "# Identificar el tipo de datos de la columna \"Periodo\"\n",
        "df_filtrado=df_sin_columna_1[['Jun','Jul', 'Ago']]\n",
        "\n",
        "# Calculo del promedio del periodo\n",
        "\n",
        "# suma todas las columnas, guardando todos dichos resultados en columnas\n",
        "suma_columnas = df_filtrado.sum()\n",
        "\n",
        "#convertirlo en un dataframe\n",
        "pd.DataFrame(suma_columnas)\n",
        "\n",
        "#calcular la suma de todos los resultados de las columnas\n",
        "sum=suma_columnas.sum()\n",
        "\n",
        "#----------------------------------------------------------------\n",
        "\n",
        "#contar si las celdas tienen información, guardando resuldados en columnas\n",
        "conteo_columnas = df_filtrado.count()\n",
        "\n",
        "#convertirlo en un dataframe\n",
        "conteo_columnas=pd.DataFrame(conteo_columnas)\n",
        "\n",
        "#calcular la suma de todos los resultados de las columnas\n",
        "total=conteo_columnas.sum()\n",
        "\n",
        "# Calcular el promedio\n",
        "\n",
        "#redondear\n",
        "pro=sum/total\n",
        "pro=pro.values[0]\n",
        "\n",
        "# Se realiza filtro\n",
        "filtro1 = df_filtrado > pro\n",
        "\n",
        "# sumas por mes que cumplen esta condición\n",
        "count_mayor_prom = filtro1.sum()\n",
        "\n",
        "#Convertir en dataframe\n",
        "count_mayor_prom=pd.DataFrame(count_mayor_prom)\n",
        "\n",
        "#calcular la suma de todos los resultados de las columnas\n",
        "cantidad=count_mayor_prom.sum()[0]\n",
        "\n",
        "print(f\"Días del periodo: {total.values[0]}\")\n",
        "print(f\"Días del periodo mayor al promedio: {cantidad}\")\n",
        "print(f\"El promedio de la UF período junio – agosto 2020 es: {pro}\")"
      ],
      "metadata": {
        "colab": {
          "base_uri": "https://localhost:8080/"
        },
        "id": "6VdLfpg24Oir",
        "outputId": "e04303ef-4365-48e6-da41-4ab28658a948"
      },
      "execution_count": 124,
      "outputs": [
        {
          "output_type": "stream",
          "name": "stdout",
          "text": [
            "Días del periodo: 92\n",
            "Días del periodo mayor al promedio: 47\n",
            "El promedio de la UF período junio – agosto 2020 es: 37582.292282608694\n"
          ]
        }
      ]
    },
    {
      "cell_type": "code",
      "source": [
        "#b) Con un 95% determina el intervalo de confianza para la proporción\n",
        "#de días en que la UF es mayor al promedio del período\n",
        "\n",
        "# Se determina el valor de Z\n",
        "NC=0.95\n",
        "alpha=1-NC\n",
        "z = norm.ppf(1 - alpha / 2)\n",
        "\n",
        "#Determinamos p y q\n",
        "p= cantidad/total\n",
        "q=1-p\n",
        "\n",
        "E1= z*np.sqrt(p*q/total)[0]\n",
        "\n",
        "lim_inf=p-E1\n",
        "lim_sup=p+E1\n",
        "\n",
        "print(f\"El intervalo de confianza es: ({round(lim_inf,2)},{round(lim_sup,2)})\")"
      ],
      "metadata": {
        "id": "a_70_1unWBXH",
        "colab": {
          "base_uri": "https://localhost:8080/"
        },
        "outputId": "c3258037-1c59-45b3-b201-af5223912908"
      },
      "execution_count": 125,
      "outputs": [
        {
          "output_type": "stream",
          "name": "stdout",
          "text": [
            "El intervalo de confianza es: (0    0.41\n",
            "dtype: float64,0    0.61\n",
            "dtype: float64)\n"
          ]
        }
      ]
    },
    {
      "cell_type": "code",
      "source": [
        "#c) Con un 98% determina el intervalo de confianza para la proporción\n",
        "#de días en que la UF es mayor al promedio del período.\n",
        "\n",
        "# Se determina el valor de Z\n",
        "NC=0.98\n",
        "alpha=1-NC\n",
        "z = norm.ppf(1 - alpha / 2)\n",
        "\n",
        "#Determinamos p y q\n",
        "p= cantidad/total\n",
        "q=1-p\n",
        "\n",
        "E1= z*np.sqrt(p*q/total)[0]\n",
        "\n",
        "lim_inf=p-E1\n",
        "lim_sup=p+E1\n",
        "\n",
        "print(f\"El intervalo de confianza es: ({round(lim_inf,2)},{round(lim_sup,2)})\")"
      ],
      "metadata": {
        "colab": {
          "base_uri": "https://localhost:8080/"
        },
        "id": "PznswE2ObgF3",
        "outputId": "af36e24c-f9a0-463a-f595-d16bd8bdda23"
      },
      "execution_count": 126,
      "outputs": [
        {
          "output_type": "stream",
          "name": "stdout",
          "text": [
            "El intervalo de confianza es: (0    0.39\n",
            "dtype: float64,0    0.63\n",
            "dtype: float64)\n"
          ]
        }
      ]
    }
  ]
}