{
  "nbformat": 4,
  "nbformat_minor": 0,
  "metadata": {
    "colab": {
      "provenance": [],
      "authorship_tag": "ABX9TyNvVDoJqChwG4SFa1HRe3Ei",
      "include_colab_link": true
    },
    "kernelspec": {
      "name": "python3",
      "display_name": "Python 3"
    },
    "language_info": {
      "name": "python"
    }
  },
  "cells": [
    {
      "cell_type": "markdown",
      "metadata": {
        "id": "view-in-github",
        "colab_type": "text"
      },
      "source": [
        "<a href=\"https://colab.research.google.com/github/ATPYINACAP/AT/blob/main/AT1_U1_M1_INF.ipynb\" target=\"_parent\"><img src=\"https://colab.research.google.com/assets/colab-badge.svg\" alt=\"Open In Colab\"/></a>"
      ]
    },
    {
      "cell_type": "code",
      "execution_count": null,
      "metadata": {
        "id": "oOiFOlRrmale",
        "colab": {
          "base_uri": "https://localhost:8080/"
        },
        "outputId": "00dfcd82-96d7-4375-a172-a35bca66471a"
      },
      "outputs": [
        {
          "output_type": "stream",
          "name": "stdout",
          "text": [
            "Drive already mounted at /content/drive; to attempt to forcibly remount, call drive.mount(\"/content/drive\", force_remount=True).\n"
          ]
        }
      ],
      "source": [
        "from google.colab import drive\n",
        "drive.mount('/content/drive')"
      ]
    },
    {
      "cell_type": "code",
      "source": [
        "import pandas as pd\n",
        "\n",
        "# Leer el archivo Excel\n",
        "df = pd.read_excel('/content/drive/MyDrive/CBEI01/AT01/AT1 - Ratios.xlsx')"
      ],
      "metadata": {
        "id": "yHsodrTUnt9F"
      },
      "execution_count": null,
      "outputs": []
    },
    {
      "cell_type": "markdown",
      "source": [
        "**ACTIVIDAD 01**\n",
        "\n",
        "Considerando los datos de la base \"AT1 - Ratios\""
      ],
      "metadata": {
        "id": "khC9eztkoWTs"
      }
    },
    {
      "cell_type": "code",
      "source": [
        "# El siguiente comando muestra el nombre de cada una de las columnas.\n",
        "df.columns"
      ],
      "metadata": {
        "colab": {
          "base_uri": "https://localhost:8080/"
        },
        "id": "lDQJNT2oowJs",
        "outputId": "d63c19a5-cbcf-4ad0-dece-da2ed462c6df"
      },
      "execution_count": null,
      "outputs": [
        {
          "output_type": "execute_result",
          "data": {
            "text/plain": [
              "Index(['Periodo', 'M1/PIB', 'M2/PIB', 'M3/PIB', 'Colocaciones nominales/PIB'], dtype='object')"
            ]
          },
          "metadata": {},
          "execution_count": 150
        }
      ]
    },
    {
      "cell_type": "code",
      "source": [
        "# a) Determinar el promedio para cada PIB\n",
        "\n",
        "# Entre la linea 4 y 7 se calculan los promedios asignandolos a una variable\n",
        "M1=df['M1/PIB'].mean()\n",
        "M2=df['M2/PIB'].mean()\n",
        "M3=df['M3/PIB'].mean()\n",
        "M4=df['Colocaciones nominales/PIB'].mean()\n",
        "\n",
        "# Se guardan los valores en lista llamada prom\n",
        "prom=(M1, M2, M3, M4)\n",
        "\n",
        "# Se deja la lista prom como dataframe\n",
        "prom=pd.DataFrame(prom)\n",
        "\n",
        "# Se agrega columna con los nombres de los PIB\n",
        "prom['PIB'] = [\"M1/PIB\",\"M2/PIB\",\"M3/PIB\",\"Colocaciones nominales/PIB\"]\n",
        "\n",
        "# Se cambia la posicion de las columnas\n",
        "prom=prom.set_index('PIB')\n",
        "\n",
        "# Se renombra la columna\n",
        "prom.columns=['Promedios']\n",
        "\n",
        "print(prom)"
      ],
      "metadata": {
        "colab": {
          "base_uri": "https://localhost:8080/"
        },
        "id": "35Ah6juIohDW",
        "outputId": "7bc24b70-9831-415b-b131-4da95ceb7f2f"
      },
      "execution_count": null,
      "outputs": [
        {
          "output_type": "stream",
          "name": "stdout",
          "text": [
            "                             Promedios\n",
            "PIB                                   \n",
            "M1/PIB                       15.682340\n",
            "M2/PIB                       59.966131\n",
            "M3/PIB                      103.517751\n",
            "Colocaciones nominales/PIB   76.909658\n"
          ]
        }
      ]
    },
    {
      "cell_type": "code",
      "source": [
        "# b) Determina la desviación muestral\n",
        "\n",
        "import numpy as np\n",
        "\n",
        "# Calcular la desviación estándar muestral\n",
        "s1 = np.std(df['M1/PIB'], ddof=1)\n",
        "s2 = np.std(df['M2/PIB'], ddof=1)\n",
        "s3 = np.std(df['M3/PIB'], ddof=1)\n",
        "s4 = np.std(df['Colocaciones nominales/PIB'], ddof=1)\n",
        "\n",
        "# Se deja la lista desv como dataframe\n",
        "desv=(s1, s2, s3, s4)\n",
        "\n",
        "# Se deja la lista desv como dataframe\n",
        "desv=pd.DataFrame(desv)\n",
        "\n",
        "# Se agrega columna con los nombres de los PIB\n",
        "desv['PIB'] = [\"M1/PIB\",\"M2/PIB\",\"M3/PIB\",\"Colocaciones nominales/PIB\"]\n",
        "\n",
        "# Se cambia la posicion de las columnas\n",
        "desv=desv.set_index('PIB')\n",
        "\n",
        "# Se renombra la columna\n",
        "desv.columns=['Desviaciones muestrales']\n",
        "\n",
        "print(desv)"
      ],
      "metadata": {
        "colab": {
          "base_uri": "https://localhost:8080/"
        },
        "id": "3FIDogrBqDKX",
        "outputId": "48509338-2eb9-4867-e2f6-3332dac1993c"
      },
      "execution_count": null,
      "outputs": [
        {
          "output_type": "stream",
          "name": "stdout",
          "text": [
            "                            Desviaciones muestrales\n",
            "PIB                                                \n",
            "M1/PIB                                     6.440511\n",
            "M2/PIB                                    11.201971\n",
            "M3/PIB                                    16.109997\n",
            "Colocaciones nominales/PIB                11.096686\n"
          ]
        }
      ]
    },
    {
      "cell_type": "code",
      "source": [
        "# c) con un 90% de confianza determina el error que puedes cometer al calcular un\n",
        "# IC para la media de los ratios"
      ],
      "metadata": {
        "id": "vHMGPdOmrGnV"
      },
      "execution_count": null,
      "outputs": []
    },
    {
      "cell_type": "code",
      "source": [
        "# Se calcula el valor de z, asociado al 90%, alpha =0.10\n",
        "\n",
        "from scipy import stats\n",
        "\n",
        "# Calcular el valor de z asociado al 90% de confianza\n",
        "z = stats.norm.ppf(1-0.10/2)\n",
        "\n",
        "# Se calcula el tamaño de la muestra\n",
        "n=len(df)\n",
        "\n",
        "# Se calcula el error asociado a la media de los ratios\n",
        "Error_1=z*(s1/np.sqrt(n))\n",
        "Error_2=z*(s2/np.sqrt(n))\n",
        "Error_3=z*(s3/np.sqrt(n))\n",
        "Error_4=z*(s4/np.sqrt(n))\n",
        "\n",
        "# Se muestran los errores\n",
        "print(Error_1, Error_2, Error_3, Error_4)"
      ],
      "metadata": {
        "colab": {
          "base_uri": "https://localhost:8080/"
        },
        "id": "uyGlM21kEWDi",
        "outputId": "0521652b-f4cc-4258-d56a-fbf151001d66"
      },
      "execution_count": null,
      "outputs": [
        {
          "output_type": "stream",
          "name": "stdout",
          "text": [
            "1.0756270381278046 1.8708364510545383 2.690523889645079 1.8532529167254694\n"
          ]
        }
      ]
    },
    {
      "cell_type": "code",
      "source": [
        "#d) Determina el intervalo de confianza del 90% de la media poblacional de los ratios\n",
        "\n",
        "# Se calcula IC para el primer ratio, se redondea con 2 decimales\n",
        "IC1=(round(M1-Error_1,2),round(M1+Error_1,2))\n",
        "\n",
        "# Se calcula IC para el segundo ratio, se redondea con 2 decimales\n",
        "IC2=(round(M2-Error_2,2),round(M2+Error_2,2))\n",
        "\n",
        "# Se calcula IC para el tercer ratio, se redondea con 2 decimales\n",
        "IC3=(round(M3-Error_3,2),round(M3+Error_3,2))\n",
        "\n",
        "# Se calcula IC para el cuarto ratio, se redondea con 2 decimales\n",
        "IC4=(round(M4-Error_4,2),round(M4+Error_4,2))\n",
        "\n",
        "# Se muestran los intervalos de confianza\n",
        "\n",
        "print(f\"IC de M1/PIB {IC1}\\nIC de M2/PIB {IC2}\\nM3/PIB de {IC3}\\nIC de Colocaciones nominales/PIB {IC4}\")"
      ],
      "metadata": {
        "colab": {
          "base_uri": "https://localhost:8080/"
        },
        "id": "HTm5agOfLohK",
        "outputId": "f73e5ebb-e1b8-4445-b0d6-bdba97d53439"
      },
      "execution_count": null,
      "outputs": [
        {
          "output_type": "stream",
          "name": "stdout",
          "text": [
            "IC de M1/PIB (14.61, 16.76)\n",
            "IC de M2/PIB (58.1, 61.84)\n",
            "M3/PIB de (100.83, 106.21)\n",
            "IC de Colocaciones nominales/PIB (75.06, 78.76)\n"
          ]
        }
      ]
    },
    {
      "cell_type": "code",
      "source": [
        "#Camino abreviado para el calculo de los intervalos, esto resume a, b y c\n",
        "from scipy import stats\n",
        "\n",
        "nivel_conf = 0.90\n",
        "n=len(df)\n",
        "\n",
        "# IC =  stats.norm.interval(nivel de conf,  media muestral, std/raiz(n))\n",
        "\n",
        "IC1 = stats.norm.interval(0.90,  M1, s1/np.sqrt(n))\n",
        "IC2 = stats.norm.interval(0.90,  M2, s2/np.sqrt(n))\n",
        "IC3 = stats.norm.interval(0.90, M3, s3/np.sqrt(n))\n",
        "CI4 = stats.norm.interval(0.90, M4, s4/np.sqrt(n))\n",
        "\n",
        "print(f\"IC de M1/PIB {IC1}\\nIC de M2/PIB {IC2}\\nM3/PIB de {IC3}\\nIC de Colocaciones nominales/PIB {IC4}\")"
      ],
      "metadata": {
        "colab": {
          "base_uri": "https://localhost:8080/"
        },
        "id": "55SktQ1GasDx",
        "outputId": "01663107-ab07-4e55-9b5d-daea4663dc25"
      },
      "execution_count": null,
      "outputs": [
        {
          "output_type": "stream",
          "name": "stdout",
          "text": [
            "IC de M1/PIB (14.606712991244606, 16.757967067500218)\n",
            "IC de M2/PIB (58.09529454259541, 61.836967444704484)\n",
            "M3/PIB de (100.82722749029934, 106.20827526958949)\n",
            "IC de Colocaciones nominales/PIB (75.06, 78.76)\n"
          ]
        }
      ]
    },
    {
      "cell_type": "markdown",
      "source": [
        "**ACTIVIDAD 02**\n",
        "\n",
        "Considerando los datos de la base \"AT1 - Ratios\""
      ],
      "metadata": {
        "id": "BxDqwfsEN8Ns"
      }
    },
    {
      "cell_type": "code",
      "source": [
        "# Identificar el tipo de datos de la columna \"Periodo\"\n",
        "print(df['Periodo'].dtypes)"
      ],
      "metadata": {
        "colab": {
          "base_uri": "https://localhost:8080/"
        },
        "id": "KA80tqiSOfba",
        "outputId": "b7aa72fe-6004-4ea7-aaa0-32fd87b4aa24"
      },
      "execution_count": null,
      "outputs": [
        {
          "output_type": "stream",
          "name": "stdout",
          "text": [
            "datetime64[ns]\n"
          ]
        }
      ]
    },
    {
      "cell_type": "code",
      "source": [
        "# a) Determinar el promedio para cada PIB, considerando el período 2020 - 2024"
      ],
      "metadata": {
        "id": "JA1aQvJrOFMd"
      },
      "execution_count": null,
      "outputs": []
    },
    {
      "cell_type": "code",
      "source": [
        "#Filtrar entre años\n",
        "df_20_24 = df[(df['Periodo'].dt.year >= 2020) & (df['Periodo'].dt.year <= 2024)]"
      ],
      "metadata": {
        "id": "9vszuL1XVH3d"
      },
      "execution_count": null,
      "outputs": []
    },
    {
      "cell_type": "code",
      "source": [
        "# Calcular el promedio para cada PIB\n",
        "M1=df_20_24['M1/PIB'].mean()\n",
        "M2=df_20_24['M2/PIB'].mean()\n",
        "M3=df_20_24['M3/PIB'].mean()\n",
        "M4=df_20_24['Colocaciones nominales/PIB'].mean()\n",
        "\n",
        "# Se guardan los valores en lista llamada prom\n",
        "prom=(M1, M2, M3, M4)\n",
        "\n",
        "# Se deja la lista prom como dataframe\n",
        "prom=pd.DataFrame(prom)\n",
        "\n",
        "# Se agrega columna con los nombres de los PIB\n",
        "prom['PIB'] = [\"M1/PIB\",\"M2/PIB\",\"M3/PIB\",\"Colocaciones nominales/PIB\"]\n",
        "\n",
        "# Se cambia la posicion de las columnas\n",
        "prom=prom.set_index('PIB')\n",
        "\n",
        "# Se renombra la columna\n",
        "prom.columns=['Promedios']\n",
        "\n",
        "print(prom)"
      ],
      "metadata": {
        "colab": {
          "base_uri": "https://localhost:8080/"
        },
        "id": "r1rsh-pXOJO5",
        "outputId": "95be79a7-d09e-4392-a05b-1877f69302ae"
      },
      "execution_count": null,
      "outputs": [
        {
          "output_type": "stream",
          "name": "stdout",
          "text": [
            "                             Promedios\n",
            "PIB                                   \n",
            "M1/PIB                       26.500535\n",
            "M2/PIB                       73.249195\n",
            "M3/PIB                      124.788645\n",
            "Colocaciones nominales/PIB   89.335472\n"
          ]
        }
      ]
    },
    {
      "cell_type": "code",
      "source": [
        "# b) Determine la desviación muestral en el mismo período\n",
        "# Calcular la desviación estándar muestral\n",
        "s1 = np.std(df_20_24['M1/PIB'], ddof=1)\n",
        "s2 = np.std(df_20_24['M2/PIB'], ddof=1)\n",
        "s3 = np.std(df_20_24['M3/PIB'], ddof=1)\n",
        "s4 = np.std(df_20_24['Colocaciones nominales/PIB'], ddof=1)\n",
        "\n",
        "# Se deja la lista desv como dataframe\n",
        "desv=(s1, s2, s3, s4)\n",
        "\n",
        "# Se deja la lista desv como dataframe\n",
        "desv=pd.DataFrame(desv)\n",
        "\n",
        "# Se agrega columna con los nombres de los PIB\n",
        "desv['PIB'] = [\"M1/PIB\",\"M2/PIB\",\"M3/PIB\",\"Colocaciones nominales/PIB\"]\n",
        "\n",
        "# Se cambia la posicion de las columnas\n",
        "desv=desv.set_index('PIB')\n",
        "\n",
        "# Se renombra la columna\n",
        "desv.columns=['Desviaciones muestrales']\n",
        "\n",
        "print(desv)"
      ],
      "metadata": {
        "colab": {
          "base_uri": "https://localhost:8080/"
        },
        "id": "7JqIY65oPdDE",
        "outputId": "9bbb7a0e-281d-421f-d7a7-8ffe2dcd98e0"
      },
      "execution_count": null,
      "outputs": [
        {
          "output_type": "stream",
          "name": "stdout",
          "text": [
            "                            Desviaciones muestrales\n",
            "PIB                                                \n",
            "M1/PIB                                     6.081923\n",
            "M2/PIB                                     4.376070\n",
            "M3/PIB                                     7.173335\n",
            "Colocaciones nominales/PIB                 5.117231\n"
          ]
        }
      ]
    },
    {
      "cell_type": "code",
      "source": [
        "# c) con un 90% de confianza determina el error que puedes cometer al calcular un\n",
        "# IC para la media de los ratios\n",
        "n=len(df_20_24)\n",
        "\n",
        "# Calcular el valor de t asociado al 90% de confianza\n",
        "t = stats.t.ppf(1-0.10/2,n-1)\n",
        "\n",
        "# Se calcula el error asociado a la media de los ratios\n",
        "Error_1=t*(s1/np.sqrt(n))\n",
        "Error_2=t*(s2/np.sqrt(n))\n",
        "Error_3=t*(s3/np.sqrt(n))\n",
        "Error_4=t*(s4/np.sqrt(n))\n",
        "\n",
        "# Se muestran los errores\n",
        "print(Error_1, Error_2, Error_3, Error_4)"
      ],
      "metadata": {
        "colab": {
          "base_uri": "https://localhost:8080/"
        },
        "id": "Dhx-9o5oPdGP",
        "outputId": "5247859e-84d5-4e13-d919-52289d6ad88f"
      },
      "execution_count": null,
      "outputs": [
        {
          "output_type": "stream",
          "name": "stdout",
          "text": [
            "2.575323419253375 1.8529986593936163 3.037469674666182 2.166835034294086\n"
          ]
        }
      ]
    },
    {
      "cell_type": "code",
      "source": [
        "# d) Determina el intervalo de confianza del 90% de la media poblacional de los ratios\n",
        "\n",
        "# Se calcula IC para el primer ratio, se redondea con 2 decimales\n",
        "IC1=(round(M1-Error_1,2),round(M1+Error_1,2))\n",
        "\n",
        "# Se calcula IC para el segundo ratio, se redondea con 2 decimales\n",
        "IC2=(round(M2-Error_2,2),round(M2+Error_2,2))\n",
        "\n",
        "# Se calcula IC para el tercer ratio, se redondea con 2 decimales\n",
        "IC3=(round(M3-Error_3,2),round(M3+Error_3,2))\n",
        "\n",
        "# Se calcula IC para el cuarto ratio, se redondea con 2 decimales\n",
        "IC4=(round(M4-Error_4,2),round(M4+Error_4,2))\n",
        "\n",
        "# Se muestran los intervalos de confianza\n",
        "\n",
        "print(f\"IC de M1/PIB {IC1}\\nIC de M2/PIB {IC2}\\nM3/PIB de {IC3}\\nIC de Colocaciones nominales/PIB {IC4}\")"
      ],
      "metadata": {
        "colab": {
          "base_uri": "https://localhost:8080/"
        },
        "id": "CCGc5mqjREwf",
        "outputId": "6872df0e-41e1-4e37-b4bd-781159b27e38"
      },
      "execution_count": null,
      "outputs": [
        {
          "output_type": "stream",
          "name": "stdout",
          "text": [
            "IC de M1/PIB (23.93, 29.08)\n",
            "IC de M2/PIB (71.4, 75.1)\n",
            "M3/PIB de (121.75, 127.83)\n",
            "IC de Colocaciones nominales/PIB (87.17, 91.5)\n"
          ]
        }
      ]
    },
    {
      "cell_type": "code",
      "source": [
        "#camino corto para el calculo de los intervalos, esto resume a, b y c\n",
        "from scipy import stats\n",
        "\n",
        "nivel_conf = 0.90\n",
        "n=len(df_20_24)\n",
        "gl = n - 1\n",
        "\n",
        "# IC =  stats.t.interval(nivel de conf, gl,  media muestral, std/raiz(n))\n",
        "\n",
        "IC1 = stats.t.interval(0.90, gl, M1, s1/np.sqrt(n))\n",
        "IC2 = stats.t.interval(0.90, gl, M2, s2/np.sqrt(n))\n",
        "IC3 = stats.t.interval(0.90, gl, M3, s3/np.sqrt(n))\n",
        "CI4 = stats.t.interval(0.90, gl, M4, s4/np.sqrt(n))\n",
        "\n",
        "print(f\"IC de M1/PIB {IC1}\\nIC de M2/PIB {IC2}\\nM3/PIB de {IC3}\\nIC de Colocaciones nominales/PIB {IC4}\")"
      ],
      "metadata": {
        "colab": {
          "base_uri": "https://localhost:8080/"
        },
        "id": "WQd9tDnDVlnN",
        "outputId": "e09c5975-b499-4806-9856-a56e2e20f1f1"
      },
      "execution_count": null,
      "outputs": [
        {
          "output_type": "stream",
          "name": "stdout",
          "text": [
            "IC de M1/PIB (23.925211367118393, 29.075858205625146)\n",
            "IC de M2/PIB (71.39619644636014, 75.10219376514738)\n",
            "M3/PIB de (121.75117488885851, 127.82611423819088)\n",
            "IC de Colocaciones nominales/PIB (87.17, 91.5)\n"
          ]
        }
      ]
    }
  ]
}