{
  "nbformat": 4,
  "nbformat_minor": 0,
  "metadata": {
    "colab": {
      "provenance": [],
      "authorship_tag": "ABX9TyN0TRpTPl+YrlnjpZGIzj9k",
      "include_colab_link": true
    },
    "kernelspec": {
      "name": "python3",
      "display_name": "Python 3"
    },
    "language_info": {
      "name": "python"
    }
  },
  "cells": [
    {
      "cell_type": "markdown",
      "metadata": {
        "id": "view-in-github",
        "colab_type": "text"
      },
      "source": [
        "<a href=\"https://colab.research.google.com/github/ATPYINACAP/AT/blob/main/AT1_U1_M1_INF.ipynb\" target=\"_parent\"><img src=\"https://colab.research.google.com/assets/colab-badge.svg\" alt=\"Open In Colab\"/></a>"
      ]
    },
    {
      "cell_type": "code",
      "execution_count": 68,
      "metadata": {
        "id": "oOiFOlRrmale",
        "colab": {
          "base_uri": "https://localhost:8080/"
        },
        "outputId": "75ec2897-65a0-4331-ae24-a1c4a3996773"
      },
      "outputs": [
        {
          "output_type": "stream",
          "name": "stdout",
          "text": [
            "Drive already mounted at /content/drive; to attempt to forcibly remount, call drive.mount(\"/content/drive\", force_remount=True).\n"
          ]
        }
      ],
      "source": [
        "from google.colab import drive\n",
        "drive.mount('/content/drive')"
      ]
    },
    {
      "cell_type": "code",
      "source": [
        "import pandas as pd\n",
        "\n",
        "# Leer el archivo Excel\n",
        "df = pd.read_excel('/content/drive/MyDrive/CBEI01/AT01/AT1 - Ratios.xlsx')"
      ],
      "metadata": {
        "id": "yHsodrTUnt9F"
      },
      "execution_count": 69,
      "outputs": []
    },
    {
      "cell_type": "markdown",
      "source": [
        "**ACTIVIDAD 01**\n",
        "\n",
        "Considerando los datos de la base \"AT1 - Ratios\""
      ],
      "metadata": {
        "id": "khC9eztkoWTs"
      }
    },
    {
      "cell_type": "code",
      "source": [
        "# El siguiente comando muestra el nombre de cada una de las columnas.\n",
        "df.columns"
      ],
      "metadata": {
        "colab": {
          "base_uri": "https://localhost:8080/"
        },
        "id": "lDQJNT2oowJs",
        "outputId": "90e109e6-b0ca-4373-c94f-4d6cbf6c3f14"
      },
      "execution_count": 70,
      "outputs": [
        {
          "output_type": "execute_result",
          "data": {
            "text/plain": [
              "Index(['Periodo', 'M1/PIB', 'M2/PIB', 'M3/PIB', 'Colocaciones nominales/PIB'], dtype='object')"
            ]
          },
          "metadata": {},
          "execution_count": 70
        }
      ]
    },
    {
      "cell_type": "code",
      "source": [
        "# a) Determinar el promedio para cada PIB\n",
        "\n",
        "M1=df['M1/PIB'].mean()\n",
        "M2=df['M2/PIB'].mean()\n",
        "M3=df['M3/PIB'].mean()\n",
        "M4=df['Colocaciones nominales/PIB'].mean()\n",
        "\n",
        "prom=(M1, M2, M3, M4)\n",
        "prom=pd.DataFrame(prom)\n",
        "prom.columns=['Promedios']\n",
        "print(prom)"
      ],
      "metadata": {
        "colab": {
          "base_uri": "https://localhost:8080/"
        },
        "id": "35Ah6juIohDW",
        "outputId": "3ebf9f4f-9565-47cf-ddd4-b32e8e2cad3c"
      },
      "execution_count": 91,
      "outputs": [
        {
          "output_type": "stream",
          "name": "stdout",
          "text": [
            "    Promedios\n",
            "0   15.682340\n",
            "1   59.966131\n",
            "2  103.517751\n",
            "3   76.909658\n"
          ]
        }
      ]
    },
    {
      "cell_type": "code",
      "source": [
        "# b) Determina la desviación muestral\n",
        "\n",
        "# Calcular la desviación estándar muestral\n",
        "s1 = np.std(df['M1/PIB'], ddof=1)\n",
        "s2 = np.std(df['M2/PIB'], ddof=1)\n",
        "s3 = np.std(df['M3/PIB'], ddof=1)\n",
        "s4 = np.std(df['Colocaciones nominales/PIB'], ddof=1)\n",
        "\n",
        "desv=(s1, s2, s3, s4)\n",
        "desv=pd.DataFrame(desv)\n",
        "desv.columns=['Desv. Est']\n",
        "print(desv)"
      ],
      "metadata": {
        "colab": {
          "base_uri": "https://localhost:8080/"
        },
        "id": "3FIDogrBqDKX",
        "outputId": "fb36953d-2496-4eb5-d0af-b4e40f448ab5"
      },
      "execution_count": 88,
      "outputs": [
        {
          "output_type": "stream",
          "name": "stdout",
          "text": [
            "   Desv. Est\n",
            "0   6.440511\n",
            "1  11.201971\n",
            "2  16.109997\n",
            "3  11.096686\n"
          ]
        }
      ]
    },
    {
      "cell_type": "code",
      "source": [
        "# c) con un 90% de confianza determina el error que puedes cometer al calcular un\n",
        "# IC para la media de los ratios"
      ],
      "metadata": {
        "id": "vHMGPdOmrGnV"
      },
      "execution_count": 73,
      "outputs": []
    },
    {
      "cell_type": "code",
      "source": [
        "z = stats.norm.ppf(1-0.10/2)\n",
        "\n",
        "n=len(df)\n",
        "\n",
        "Error_1=z*(s1/np.sqrt(n))\n",
        "Error_2=z*(s2/np.sqrt(n))\n",
        "Error_3=z*(s3/np.sqrt(n))\n",
        "Error_4=z*(s4/np.sqrt(n))\n",
        "\n",
        "print(Error_1, Error_2, Error_3, Error_4)"
      ],
      "metadata": {
        "colab": {
          "base_uri": "https://localhost:8080/"
        },
        "id": "uyGlM21kEWDi",
        "outputId": "dbd0ff4f-fe9c-4d1b-fc5d-02344e80e193"
      },
      "execution_count": 90,
      "outputs": [
        {
          "output_type": "stream",
          "name": "stdout",
          "text": [
            "1.0756270381278046 1.8708364510545383 2.690523889645079 1.8532529167254694\n"
          ]
        }
      ]
    },
    {
      "cell_type": "code",
      "source": [
        "#d) Determina el intervalo de confianza del 90% de la media poblacional de los ratios\n",
        "\n",
        "IC1=(round(M1-Error_1,2),round(M1+Error_1,2))\n",
        "\n",
        "IC2=(round(M2-Error_2,2),round(M2+Error_2,2))\n",
        "\n",
        "IC3=(round(M3-Error_3,2),round(M3+Error_3,2))\n",
        "\n",
        "IC4=(round(M4-Error_4,2),round(M4+Error_4,2))\n",
        "\n",
        "print(IC1, IC2, IC3, IC4)"
      ],
      "metadata": {
        "colab": {
          "base_uri": "https://localhost:8080/"
        },
        "id": "HTm5agOfLohK",
        "outputId": "6bfbd0fb-dd4b-4622-f64b-1bc410b1c9cb"
      },
      "execution_count": 101,
      "outputs": [
        {
          "output_type": "stream",
          "name": "stdout",
          "text": [
            "(14.61, 16.76) (58.1, 61.84) (100.83, 106.21) (75.06, 78.76)\n"
          ]
        }
      ]
    }
  ]
}